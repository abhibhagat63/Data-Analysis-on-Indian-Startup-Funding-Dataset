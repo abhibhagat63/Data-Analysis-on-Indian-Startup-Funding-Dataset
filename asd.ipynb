{
 "cells": [
  {
   "cell_type": "markdown",
   "id": "8f1f81af",
   "metadata": {},
   "source": [
    "## 1. Company POV\n",
    "\n",
    " - Name\n",
    " - Founders\n",
    " - Industry\n",
    " - Subindustry\n",
    " - Location\n",
    " - Funding Rounds\n",
    " - Stage\n",
    " - Investors\n",
    " - Date\n",
    " - Similar company\n",
    "\n",
    "## 2. Investor POV\n",
    "\n",
    " - Name\n",
    " - Recent Investments\n",
    " - Biggest investments\n",
    " - Generally invests in ...\n",
    "\n",
    " - Sector->pie\n",
    "    - stage ->pie\n",
    "    - city -> pie\n",
    "    - YoY investment araph\n",
    "    - Similar Investors\n",
    "\n",
    "## 3. General Analysis\n",
    "\n",
    " - MOM chartl-> Total + Count\n",
    " - Cards -> Total + Max + Avg -> Total funded startups\n",
    " - Sector Analysis Pie -> top sectors (Count + Sum)\n",
    " - Type of funding\n",
    " - City wise funding\n",
    " - Top Startups -> year wise -> Overall\n",
    " - Top investors\n",
    " - Funding Heatmap"
   ]
  },
  {
   "cell_type": "code",
   "execution_count": 2,
   "id": "de216b60",
   "metadata": {},
   "outputs": [],
   "source": [
    "# import streamlit as st\n",
    "import pandas as pd\n",
    "import plotly.express as px\n",
    "import matplotlib.pyplot as plt\n",
    "import re\n",
    "import numpy as np"
   ]
  },
  {
   "cell_type": "code",
   "execution_count": 3,
   "id": "4a41eb49",
   "metadata": {},
   "outputs": [
    {
     "name": "stderr",
     "output_type": "stream",
     "text": [
      "<>:1: SyntaxWarning: invalid escape sequence '\\D'\n",
      "<>:1: SyntaxWarning: invalid escape sequence '\\D'\n",
      "C:\\Users\\Abhijit\\AppData\\Local\\Temp\\ipykernel_18908\\2036604955.py:1: SyntaxWarning: invalid escape sequence '\\D'\n",
      "  df = pd.read_csv(\"D:\\DS\\Data Science\\CampusX\\python\\Data Analysis on Indian Startup Funding Dataset\\startup_funding.csv\")\n"
     ]
    }
   ],
   "source": [
    "\n",
    "df = pd.read_csv(\"D:\\DS\\Data Science\\CampusX\\python\\Data Analysis on Indian Startup Funding Dataset\\startup_funding.csv\")\n",
    "# df.head()\n",
    "\n",
    "# st.title(\"Startup Dashboard\")"
   ]
  },
  {
   "cell_type": "code",
   "execution_count": 4,
   "id": "baec580e",
   "metadata": {},
   "outputs": [
    {
     "data": {
      "text/html": [
       "<div>\n",
       "<style scoped>\n",
       "    .dataframe tbody tr th:only-of-type {\n",
       "        vertical-align: middle;\n",
       "    }\n",
       "\n",
       "    .dataframe tbody tr th {\n",
       "        vertical-align: top;\n",
       "    }\n",
       "\n",
       "    .dataframe thead th {\n",
       "        text-align: right;\n",
       "    }\n",
       "</style>\n",
       "<table border=\"1\" class=\"dataframe\">\n",
       "  <thead>\n",
       "    <tr style=\"text-align: right;\">\n",
       "      <th></th>\n",
       "      <th>Sr No</th>\n",
       "      <th>Date dd/mm/yyyy</th>\n",
       "      <th>Startup Name</th>\n",
       "      <th>Industry Vertical</th>\n",
       "      <th>SubVertical</th>\n",
       "      <th>City  Location</th>\n",
       "      <th>Investors Name</th>\n",
       "      <th>InvestmentnType</th>\n",
       "      <th>Amount in USD</th>\n",
       "      <th>Remarks</th>\n",
       "    </tr>\n",
       "  </thead>\n",
       "  <tbody>\n",
       "    <tr>\n",
       "      <th>0</th>\n",
       "      <td>1</td>\n",
       "      <td>09/01/2020</td>\n",
       "      <td>BYJU’S</td>\n",
       "      <td>E-Tech</td>\n",
       "      <td>E-learning</td>\n",
       "      <td>Bengaluru</td>\n",
       "      <td>Tiger Global Management</td>\n",
       "      <td>Private Equity Round</td>\n",
       "      <td>20,00,00,000</td>\n",
       "      <td>NaN</td>\n",
       "    </tr>\n",
       "    <tr>\n",
       "      <th>1</th>\n",
       "      <td>2</td>\n",
       "      <td>13/01/2020</td>\n",
       "      <td>Shuttl</td>\n",
       "      <td>Transportation</td>\n",
       "      <td>App based shuttle service</td>\n",
       "      <td>Gurgaon</td>\n",
       "      <td>Susquehanna Growth Equity</td>\n",
       "      <td>Series C</td>\n",
       "      <td>80,48,394</td>\n",
       "      <td>NaN</td>\n",
       "    </tr>\n",
       "    <tr>\n",
       "      <th>2</th>\n",
       "      <td>3</td>\n",
       "      <td>09/01/2020</td>\n",
       "      <td>Mamaearth</td>\n",
       "      <td>E-commerce</td>\n",
       "      <td>Retailer of baby and toddler products</td>\n",
       "      <td>Bengaluru</td>\n",
       "      <td>Sequoia Capital India</td>\n",
       "      <td>Series B</td>\n",
       "      <td>1,83,58,860</td>\n",
       "      <td>NaN</td>\n",
       "    </tr>\n",
       "    <tr>\n",
       "      <th>3</th>\n",
       "      <td>4</td>\n",
       "      <td>02/01/2020</td>\n",
       "      <td>https://www.wealthbucket.in/</td>\n",
       "      <td>FinTech</td>\n",
       "      <td>Online Investment</td>\n",
       "      <td>New Delhi</td>\n",
       "      <td>Vinod Khatumal</td>\n",
       "      <td>Pre-series A</td>\n",
       "      <td>30,00,000</td>\n",
       "      <td>NaN</td>\n",
       "    </tr>\n",
       "    <tr>\n",
       "      <th>4</th>\n",
       "      <td>5</td>\n",
       "      <td>02/01/2020</td>\n",
       "      <td>Fashor</td>\n",
       "      <td>Fashion and Apparel</td>\n",
       "      <td>Embroiled Clothes For Women</td>\n",
       "      <td>Mumbai</td>\n",
       "      <td>Sprout Venture Partners</td>\n",
       "      <td>Seed Round</td>\n",
       "      <td>18,00,000</td>\n",
       "      <td>NaN</td>\n",
       "    </tr>\n",
       "  </tbody>\n",
       "</table>\n",
       "</div>"
      ],
      "text/plain": [
       "   Sr No Date dd/mm/yyyy                  Startup Name    Industry Vertical  \\\n",
       "0      1      09/01/2020                        BYJU’S               E-Tech   \n",
       "1      2      13/01/2020                        Shuttl       Transportation   \n",
       "2      3      09/01/2020                     Mamaearth           E-commerce   \n",
       "3      4      02/01/2020  https://www.wealthbucket.in/              FinTech   \n",
       "4      5      02/01/2020                        Fashor  Fashion and Apparel   \n",
       "\n",
       "                             SubVertical City  Location  \\\n",
       "0                             E-learning      Bengaluru   \n",
       "1              App based shuttle service        Gurgaon   \n",
       "2  Retailer of baby and toddler products      Bengaluru   \n",
       "3                      Online Investment      New Delhi   \n",
       "4            Embroiled Clothes For Women         Mumbai   \n",
       "\n",
       "              Investors Name       InvestmentnType Amount in USD Remarks  \n",
       "0    Tiger Global Management  Private Equity Round  20,00,00,000     NaN  \n",
       "1  Susquehanna Growth Equity              Series C     80,48,394     NaN  \n",
       "2      Sequoia Capital India              Series B   1,83,58,860     NaN  \n",
       "3             Vinod Khatumal          Pre-series A     30,00,000     NaN  \n",
       "4    Sprout Venture Partners            Seed Round     18,00,000     NaN  "
      ]
     },
     "execution_count": 4,
     "metadata": {},
     "output_type": "execute_result"
    }
   ],
   "source": [
    "df.head()"
   ]
  },
  {
   "cell_type": "code",
   "execution_count": 5,
   "id": "8dc592f9",
   "metadata": {},
   "outputs": [
    {
     "name": "stdout",
     "output_type": "stream",
     "text": [
      "<class 'pandas.core.frame.DataFrame'>\n",
      "RangeIndex: 3044 entries, 0 to 3043\n",
      "Data columns (total 10 columns):\n",
      " #   Column             Non-Null Count  Dtype \n",
      "---  ------             --------------  ----- \n",
      " 0   Sr No              3044 non-null   int64 \n",
      " 1   Date dd/mm/yyyy    3044 non-null   object\n",
      " 2   Startup Name       3044 non-null   object\n",
      " 3   Industry Vertical  2873 non-null   object\n",
      " 4   SubVertical        2108 non-null   object\n",
      " 5   City  Location     2864 non-null   object\n",
      " 6   Investors Name     3020 non-null   object\n",
      " 7   InvestmentnType    3040 non-null   object\n",
      " 8   Amount in USD      2084 non-null   object\n",
      " 9   Remarks            419 non-null    object\n",
      "dtypes: int64(1), object(9)\n",
      "memory usage: 237.9+ KB\n"
     ]
    }
   ],
   "source": [
    "df.info()"
   ]
  },
  {
   "cell_type": "code",
   "execution_count": 6,
   "id": "ac595903",
   "metadata": {},
   "outputs": [],
   "source": [
    "# df[\"Investors Name\"] = df[\"Investors Name\"].fillna(\"Undisclosed\")"
   ]
  },
  {
   "cell_type": "code",
   "execution_count": 7,
   "id": "ac23feb2",
   "metadata": {},
   "outputs": [],
   "source": [
    "df.drop(columns=\"Remarks\", inplace=True)"
   ]
  },
  {
   "cell_type": "code",
   "execution_count": 8,
   "id": "cdca00fa",
   "metadata": {},
   "outputs": [],
   "source": [
    "df.set_index(\"Sr No\", inplace=True)"
   ]
  },
  {
   "cell_type": "code",
   "execution_count": 9,
   "id": "5cca0254",
   "metadata": {},
   "outputs": [
    {
     "name": "stdout",
     "output_type": "stream",
     "text": [
      "<class 'pandas.core.frame.DataFrame'>\n",
      "Index: 3044 entries, 1 to 3044\n",
      "Data columns (total 8 columns):\n",
      " #   Column             Non-Null Count  Dtype \n",
      "---  ------             --------------  ----- \n",
      " 0   Date dd/mm/yyyy    3044 non-null   object\n",
      " 1   Startup Name       3044 non-null   object\n",
      " 2   Industry Vertical  2873 non-null   object\n",
      " 3   SubVertical        2108 non-null   object\n",
      " 4   City  Location     2864 non-null   object\n",
      " 5   Investors Name     3020 non-null   object\n",
      " 6   InvestmentnType    3040 non-null   object\n",
      " 7   Amount in USD      2084 non-null   object\n",
      "dtypes: object(8)\n",
      "memory usage: 214.0+ KB\n"
     ]
    }
   ],
   "source": [
    "df.info()"
   ]
  },
  {
   "cell_type": "code",
   "execution_count": 10,
   "id": "0426e16e",
   "metadata": {},
   "outputs": [],
   "source": [
    "df.rename(columns={\"Date dd/mm/yyyy\" : \"date\",\n",
    "                   \"Startup Name\" : \"startup\",\n",
    "                   \"Industry Vertical\":\"vertical\",\n",
    "                   \"SubVertical\":\"subvertical\",\n",
    "                   \"City  Location\":\"city\",\n",
    "                   \"Investors Name\":\"investors\",\n",
    "                   \"InvestmentnType\":\"round\",\n",
    "                    \"Amount in USD\":\"amount\"}, inplace=True)"
   ]
  },
  {
   "cell_type": "code",
   "execution_count": 11,
   "id": "62ea4e9b",
   "metadata": {},
   "outputs": [
    {
     "name": "stdout",
     "output_type": "stream",
     "text": [
      "<class 'pandas.core.frame.DataFrame'>\n",
      "Index: 3044 entries, 1 to 3044\n",
      "Data columns (total 8 columns):\n",
      " #   Column       Non-Null Count  Dtype \n",
      "---  ------       --------------  ----- \n",
      " 0   date         3044 non-null   object\n",
      " 1   startup      3044 non-null   object\n",
      " 2   vertical     2873 non-null   object\n",
      " 3   subvertical  2108 non-null   object\n",
      " 4   city         2864 non-null   object\n",
      " 5   investors    3020 non-null   object\n",
      " 6   round        3040 non-null   object\n",
      " 7   amount       3044 non-null   object\n",
      "dtypes: object(8)\n",
      "memory usage: 214.0+ KB\n"
     ]
    }
   ],
   "source": [
    "df[\"amount\"] = df[\"amount\"].fillna(\"0\")\n",
    "df.info()"
   ]
  },
  {
   "cell_type": "code",
   "execution_count": 12,
   "id": "d204e885",
   "metadata": {},
   "outputs": [],
   "source": [
    "df[\"amount\"] = df[\"amount\"].str.replace(\",\",'')\n",
    "df[\"amount\"] = df[\"amount\"].str.replace(\"undisclosed\",\"0\")\n",
    "df[\"amount\"] = df[\"amount\"].str.replace(\"unknown\",\"0\")\n",
    "df[\"amount\"] = df[\"amount\"].str.replace(\"Undisclosed\",\"0\")"
   ]
  },
  {
   "cell_type": "code",
   "execution_count": 13,
   "id": "7d3bbbd7",
   "metadata": {},
   "outputs": [],
   "source": [
    "df = df[df[\"amount\"].str.isdigit()]"
   ]
  },
  {
   "cell_type": "code",
   "execution_count": 14,
   "id": "201c7201",
   "metadata": {},
   "outputs": [],
   "source": [
    "df[\"amount\"] = df[\"amount\"].astype(\"float\")"
   ]
  },
  {
   "cell_type": "code",
   "execution_count": 15,
   "id": "1ac1c122",
   "metadata": {},
   "outputs": [
    {
     "name": "stdout",
     "output_type": "stream",
     "text": [
      "<class 'pandas.core.frame.DataFrame'>\n",
      "Index: 3029 entries, 1 to 3044\n",
      "Data columns (total 8 columns):\n",
      " #   Column       Non-Null Count  Dtype  \n",
      "---  ------       --------------  -----  \n",
      " 0   date         3029 non-null   object \n",
      " 1   startup      3029 non-null   object \n",
      " 2   vertical     2858 non-null   object \n",
      " 3   subvertical  2104 non-null   object \n",
      " 4   city         2849 non-null   object \n",
      " 5   investors    3005 non-null   object \n",
      " 6   round        3027 non-null   object \n",
      " 7   amount       3029 non-null   float64\n",
      "dtypes: float64(1), object(7)\n",
      "memory usage: 213.0+ KB\n"
     ]
    }
   ],
   "source": [
    "df.info()"
   ]
  },
  {
   "cell_type": "code",
   "execution_count": 16,
   "id": "c9361ca7",
   "metadata": {},
   "outputs": [],
   "source": [
    "def to_inr(dollar):\n",
    "    inr = dollar * 82.5\n",
    "    return inr/10000000"
   ]
  },
  {
   "cell_type": "code",
   "execution_count": 17,
   "id": "c7953591",
   "metadata": {},
   "outputs": [
    {
     "data": {
      "text/html": [
       "<div>\n",
       "<style scoped>\n",
       "    .dataframe tbody tr th:only-of-type {\n",
       "        vertical-align: middle;\n",
       "    }\n",
       "\n",
       "    .dataframe tbody tr th {\n",
       "        vertical-align: top;\n",
       "    }\n",
       "\n",
       "    .dataframe thead th {\n",
       "        text-align: right;\n",
       "    }\n",
       "</style>\n",
       "<table border=\"1\" class=\"dataframe\">\n",
       "  <thead>\n",
       "    <tr style=\"text-align: right;\">\n",
       "      <th></th>\n",
       "      <th>date</th>\n",
       "      <th>startup</th>\n",
       "      <th>vertical</th>\n",
       "      <th>subvertical</th>\n",
       "      <th>city</th>\n",
       "      <th>investors</th>\n",
       "      <th>round</th>\n",
       "      <th>amount</th>\n",
       "    </tr>\n",
       "    <tr>\n",
       "      <th>Sr No</th>\n",
       "      <th></th>\n",
       "      <th></th>\n",
       "      <th></th>\n",
       "      <th></th>\n",
       "      <th></th>\n",
       "      <th></th>\n",
       "      <th></th>\n",
       "      <th></th>\n",
       "    </tr>\n",
       "  </thead>\n",
       "  <tbody>\n",
       "    <tr>\n",
       "      <th>1</th>\n",
       "      <td>09/01/2020</td>\n",
       "      <td>BYJU’S</td>\n",
       "      <td>E-Tech</td>\n",
       "      <td>E-learning</td>\n",
       "      <td>Bengaluru</td>\n",
       "      <td>Tiger Global Management</td>\n",
       "      <td>Private Equity Round</td>\n",
       "      <td>1650.000000</td>\n",
       "    </tr>\n",
       "    <tr>\n",
       "      <th>2</th>\n",
       "      <td>13/01/2020</td>\n",
       "      <td>Shuttl</td>\n",
       "      <td>Transportation</td>\n",
       "      <td>App based shuttle service</td>\n",
       "      <td>Gurgaon</td>\n",
       "      <td>Susquehanna Growth Equity</td>\n",
       "      <td>Series C</td>\n",
       "      <td>66.399250</td>\n",
       "    </tr>\n",
       "    <tr>\n",
       "      <th>3</th>\n",
       "      <td>09/01/2020</td>\n",
       "      <td>Mamaearth</td>\n",
       "      <td>E-commerce</td>\n",
       "      <td>Retailer of baby and toddler products</td>\n",
       "      <td>Bengaluru</td>\n",
       "      <td>Sequoia Capital India</td>\n",
       "      <td>Series B</td>\n",
       "      <td>151.460595</td>\n",
       "    </tr>\n",
       "    <tr>\n",
       "      <th>4</th>\n",
       "      <td>02/01/2020</td>\n",
       "      <td>https://www.wealthbucket.in/</td>\n",
       "      <td>FinTech</td>\n",
       "      <td>Online Investment</td>\n",
       "      <td>New Delhi</td>\n",
       "      <td>Vinod Khatumal</td>\n",
       "      <td>Pre-series A</td>\n",
       "      <td>24.750000</td>\n",
       "    </tr>\n",
       "    <tr>\n",
       "      <th>5</th>\n",
       "      <td>02/01/2020</td>\n",
       "      <td>Fashor</td>\n",
       "      <td>Fashion and Apparel</td>\n",
       "      <td>Embroiled Clothes For Women</td>\n",
       "      <td>Mumbai</td>\n",
       "      <td>Sprout Venture Partners</td>\n",
       "      <td>Seed Round</td>\n",
       "      <td>14.850000</td>\n",
       "    </tr>\n",
       "  </tbody>\n",
       "</table>\n",
       "</div>"
      ],
      "text/plain": [
       "             date                       startup             vertical  \\\n",
       "Sr No                                                                  \n",
       "1      09/01/2020                        BYJU’S               E-Tech   \n",
       "2      13/01/2020                        Shuttl       Transportation   \n",
       "3      09/01/2020                     Mamaearth           E-commerce   \n",
       "4      02/01/2020  https://www.wealthbucket.in/              FinTech   \n",
       "5      02/01/2020                        Fashor  Fashion and Apparel   \n",
       "\n",
       "                                 subvertical       city  \\\n",
       "Sr No                                                     \n",
       "1                                 E-learning  Bengaluru   \n",
       "2                  App based shuttle service    Gurgaon   \n",
       "3      Retailer of baby and toddler products  Bengaluru   \n",
       "4                          Online Investment  New Delhi   \n",
       "5                Embroiled Clothes For Women     Mumbai   \n",
       "\n",
       "                       investors                 round       amount  \n",
       "Sr No                                                                \n",
       "1        Tiger Global Management  Private Equity Round  1650.000000  \n",
       "2      Susquehanna Growth Equity              Series C    66.399250  \n",
       "3          Sequoia Capital India              Series B   151.460595  \n",
       "4                 Vinod Khatumal          Pre-series A    24.750000  \n",
       "5        Sprout Venture Partners            Seed Round    14.850000  "
      ]
     },
     "execution_count": 17,
     "metadata": {},
     "output_type": "execute_result"
    }
   ],
   "source": [
    "df[\"amount\"] =df[\"amount\"].apply(to_inr)\n",
    "df.head()"
   ]
  },
  {
   "cell_type": "code",
   "execution_count": 18,
   "id": "79e30bc8",
   "metadata": {},
   "outputs": [],
   "source": [
    "# df[\"date\"].str.replace(\"05/072018\",\"05/07/2018\")\n",
    "# cr[\"Year\"] = cr[\"Year\"].apply(lambda x : int(re.findall(r\"\\d{4}\",str(x))[0]))\n",
    "df[\"date\"] = df[\"date\"].apply(lambda x: \"{}/{}/{}\".format(x[3:5],x[0:2],x[6:])if int(x[:2]) > 12 else x )"
   ]
  },
  {
   "cell_type": "code",
   "execution_count": 19,
   "id": "a74f645f",
   "metadata": {},
   "outputs": [],
   "source": [
    "df[\"date\"] = pd.to_datetime(df[\"date\"], errors=\"coerce\")"
   ]
  },
  {
   "cell_type": "code",
   "execution_count": 20,
   "id": "8ba92960",
   "metadata": {},
   "outputs": [
    {
     "name": "stdout",
     "output_type": "stream",
     "text": [
      "<class 'pandas.core.frame.DataFrame'>\n",
      "Index: 3029 entries, 1 to 3044\n",
      "Data columns (total 8 columns):\n",
      " #   Column       Non-Null Count  Dtype         \n",
      "---  ------       --------------  -----         \n",
      " 0   date         3024 non-null   datetime64[ns]\n",
      " 1   startup      3029 non-null   object        \n",
      " 2   vertical     2858 non-null   object        \n",
      " 3   subvertical  2104 non-null   object        \n",
      " 4   city         2849 non-null   object        \n",
      " 5   investors    3005 non-null   object        \n",
      " 6   round        3027 non-null   object        \n",
      " 7   amount       3029 non-null   float64       \n",
      "dtypes: datetime64[ns](1), float64(1), object(6)\n",
      "memory usage: 213.0+ KB\n"
     ]
    }
   ],
   "source": [
    "df.info()"
   ]
  },
  {
   "cell_type": "code",
   "execution_count": 21,
   "id": "af97c220",
   "metadata": {},
   "outputs": [],
   "source": [
    "df= df.dropna(subset=[\"date\",\"startup\",\"vertical\", \"city\", \"investors\",\"round\",\"amount\"])"
   ]
  },
  {
   "cell_type": "code",
   "execution_count": 22,
   "id": "f12de060",
   "metadata": {},
   "outputs": [
    {
     "name": "stdout",
     "output_type": "stream",
     "text": [
      "<class 'pandas.core.frame.DataFrame'>\n",
      "Index: 2819 entries, 1 to 2873\n",
      "Data columns (total 8 columns):\n",
      " #   Column       Non-Null Count  Dtype         \n",
      "---  ------       --------------  -----         \n",
      " 0   date         2819 non-null   datetime64[ns]\n",
      " 1   startup      2819 non-null   object        \n",
      " 2   vertical     2819 non-null   object        \n",
      " 3   subvertical  2077 non-null   object        \n",
      " 4   city         2819 non-null   object        \n",
      " 5   investors    2819 non-null   object        \n",
      " 6   round        2819 non-null   object        \n",
      " 7   amount       2819 non-null   float64       \n",
      "dtypes: datetime64[ns](1), float64(1), object(6)\n",
      "memory usage: 198.2+ KB\n"
     ]
    }
   ],
   "source": [
    "df.info()"
   ]
  },
  {
   "cell_type": "code",
   "execution_count": 23,
   "id": "ebdc6b76",
   "metadata": {},
   "outputs": [
    {
     "data": {
      "text/html": [
       "<div>\n",
       "<style scoped>\n",
       "    .dataframe tbody tr th:only-of-type {\n",
       "        vertical-align: middle;\n",
       "    }\n",
       "\n",
       "    .dataframe tbody tr th {\n",
       "        vertical-align: top;\n",
       "    }\n",
       "\n",
       "    .dataframe thead th {\n",
       "        text-align: right;\n",
       "    }\n",
       "</style>\n",
       "<table border=\"1\" class=\"dataframe\">\n",
       "  <thead>\n",
       "    <tr style=\"text-align: right;\">\n",
       "      <th></th>\n",
       "      <th>date</th>\n",
       "      <th>startup</th>\n",
       "      <th>vertical</th>\n",
       "      <th>subvertical</th>\n",
       "      <th>city</th>\n",
       "      <th>investors</th>\n",
       "      <th>round</th>\n",
       "      <th>amount</th>\n",
       "    </tr>\n",
       "    <tr>\n",
       "      <th>Sr No</th>\n",
       "      <th></th>\n",
       "      <th></th>\n",
       "      <th></th>\n",
       "      <th></th>\n",
       "      <th></th>\n",
       "      <th></th>\n",
       "      <th></th>\n",
       "      <th></th>\n",
       "    </tr>\n",
       "  </thead>\n",
       "  <tbody>\n",
       "    <tr>\n",
       "      <th>1</th>\n",
       "      <td>2020-09-01</td>\n",
       "      <td>BYJU’S</td>\n",
       "      <td>E-Tech</td>\n",
       "      <td>E-learning</td>\n",
       "      <td>Bengaluru</td>\n",
       "      <td>Tiger Global Management</td>\n",
       "      <td>Private Equity Round</td>\n",
       "      <td>1650.000000</td>\n",
       "    </tr>\n",
       "    <tr>\n",
       "      <th>2</th>\n",
       "      <td>2020-01-13</td>\n",
       "      <td>Shuttl</td>\n",
       "      <td>Transportation</td>\n",
       "      <td>App based shuttle service</td>\n",
       "      <td>Gurgaon</td>\n",
       "      <td>Susquehanna Growth Equity</td>\n",
       "      <td>Series C</td>\n",
       "      <td>66.399250</td>\n",
       "    </tr>\n",
       "    <tr>\n",
       "      <th>3</th>\n",
       "      <td>2020-09-01</td>\n",
       "      <td>Mamaearth</td>\n",
       "      <td>E-commerce</td>\n",
       "      <td>Retailer of baby and toddler products</td>\n",
       "      <td>Bengaluru</td>\n",
       "      <td>Sequoia Capital India</td>\n",
       "      <td>Series B</td>\n",
       "      <td>151.460595</td>\n",
       "    </tr>\n",
       "    <tr>\n",
       "      <th>4</th>\n",
       "      <td>2020-02-01</td>\n",
       "      <td>https://www.wealthbucket.in/</td>\n",
       "      <td>FinTech</td>\n",
       "      <td>Online Investment</td>\n",
       "      <td>New Delhi</td>\n",
       "      <td>Vinod Khatumal</td>\n",
       "      <td>Pre-series A</td>\n",
       "      <td>24.750000</td>\n",
       "    </tr>\n",
       "    <tr>\n",
       "      <th>5</th>\n",
       "      <td>2020-02-01</td>\n",
       "      <td>Fashor</td>\n",
       "      <td>Fashion and Apparel</td>\n",
       "      <td>Embroiled Clothes For Women</td>\n",
       "      <td>Mumbai</td>\n",
       "      <td>Sprout Venture Partners</td>\n",
       "      <td>Seed Round</td>\n",
       "      <td>14.850000</td>\n",
       "    </tr>\n",
       "  </tbody>\n",
       "</table>\n",
       "</div>"
      ],
      "text/plain": [
       "            date                       startup             vertical  \\\n",
       "Sr No                                                                 \n",
       "1     2020-09-01                        BYJU’S               E-Tech   \n",
       "2     2020-01-13                        Shuttl       Transportation   \n",
       "3     2020-09-01                     Mamaearth           E-commerce   \n",
       "4     2020-02-01  https://www.wealthbucket.in/              FinTech   \n",
       "5     2020-02-01                        Fashor  Fashion and Apparel   \n",
       "\n",
       "                                 subvertical       city  \\\n",
       "Sr No                                                     \n",
       "1                                 E-learning  Bengaluru   \n",
       "2                  App based shuttle service    Gurgaon   \n",
       "3      Retailer of baby and toddler products  Bengaluru   \n",
       "4                          Online Investment  New Delhi   \n",
       "5                Embroiled Clothes For Women     Mumbai   \n",
       "\n",
       "                       investors                 round       amount  \n",
       "Sr No                                                                \n",
       "1        Tiger Global Management  Private Equity Round  1650.000000  \n",
       "2      Susquehanna Growth Equity              Series C    66.399250  \n",
       "3          Sequoia Capital India              Series B   151.460595  \n",
       "4                 Vinod Khatumal          Pre-series A    24.750000  \n",
       "5        Sprout Venture Partners            Seed Round    14.850000  "
      ]
     },
     "execution_count": 23,
     "metadata": {},
     "output_type": "execute_result"
    }
   ],
   "source": [
    "df.head()"
   ]
  },
  {
   "cell_type": "code",
   "execution_count": 24,
   "id": "96aafde9",
   "metadata": {},
   "outputs": [],
   "source": [
    "#importing data\n",
    "df = pd.read_csv(\"startup_funding.csv\")\n",
    "\n",
    "\n",
    "df[\"Investors Name\"] = df[\"Investors Name\"].fillna(\"Undisclosed\") #fill na values investor name with undisclosed\n",
    "df.drop(columns=\"Remarks\", inplace=True) #Drop Remarks column becoz it doesnot have 90% values\n",
    "df.set_index(\"Sr No\", inplace=True)      # set indes as for convinent\n",
    "\n",
    "df.rename(columns={\"Date dd/mm/yyyy\" : \"date\",\"Startup Name\" : \"startup\",\"Industry Vertical\":\"vertical\",\"SubVertical\":\"subvertical\",\"City  Location\":\"city\",\"Investors Name\":\"investors\",\"InvestmentnType\":\"round\",\"Amount in USD\":\"amount\"}, inplace=True) # Rename column names for shortcut modularity \n",
    "\n",
    "# Convert $ to inr (cr)\n",
    "df[\"amount\"] = df[\"amount\"].fillna(\"0\")\n",
    "df[\"amount\"] = df[\"amount\"].str.replace(\",\",\"\")\n",
    "df[\"amount\"] = df[\"amount\"].str.replace(\"undisclosed\",\"0\")\n",
    "df[\"amount\"] = df[\"amount\"].str.replace(\"unknown\",\"0\")\n",
    "df[\"amount\"] = df[\"amount\"].str.replace(\"Undisclosed\",\"0\")\n",
    "df = df[df[\"amount\"].str.isdigit()] # filter data if amount value is digit\n",
    "df[\"amount\"] = df[\"amount\"].astype(\"float\") # changing data type to int to float\n",
    "\n",
    "# Convert $ to inr (cr) for readability \n",
    "def to_inr(dollar):\n",
    "    inr = dollar * 82.5\n",
    "    return (inr/10000000)\n",
    "df[\"amount\"] =df[\"amount\"].apply(to_inr) # calling the Function\n",
    "\n",
    "#Convert date colomn into datatime object\n",
    "df[\"date\"] = pd.to_datetime(df[\"date\"],errors=\"coerce\")\n"
   ]
  },
  {
   "cell_type": "code",
   "execution_count": 25,
   "id": "941a2316",
   "metadata": {},
   "outputs": [],
   "source": [
    "investors = sorted(set(df[\"investors\"].str.split(\",\").sum()))"
   ]
  },
  {
   "cell_type": "code",
   "execution_count": 26,
   "id": "bd34f6d2",
   "metadata": {},
   "outputs": [
    {
     "data": {
      "text/html": [
       "<div>\n",
       "<style scoped>\n",
       "    .dataframe tbody tr th:only-of-type {\n",
       "        vertical-align: middle;\n",
       "    }\n",
       "\n",
       "    .dataframe tbody tr th {\n",
       "        vertical-align: top;\n",
       "    }\n",
       "\n",
       "    .dataframe thead th {\n",
       "        text-align: right;\n",
       "    }\n",
       "</style>\n",
       "<table border=\"1\" class=\"dataframe\">\n",
       "  <thead>\n",
       "    <tr style=\"text-align: right;\">\n",
       "      <th></th>\n",
       "      <th>date</th>\n",
       "      <th>startup</th>\n",
       "      <th>vertical</th>\n",
       "      <th>subvertical</th>\n",
       "      <th>city</th>\n",
       "      <th>investors</th>\n",
       "      <th>round</th>\n",
       "      <th>amount</th>\n",
       "    </tr>\n",
       "    <tr>\n",
       "      <th>Sr No</th>\n",
       "      <th></th>\n",
       "      <th></th>\n",
       "      <th></th>\n",
       "      <th></th>\n",
       "      <th></th>\n",
       "      <th></th>\n",
       "      <th></th>\n",
       "      <th></th>\n",
       "    </tr>\n",
       "  </thead>\n",
       "  <tbody>\n",
       "    <tr>\n",
       "      <th>17</th>\n",
       "      <td>NaT</td>\n",
       "      <td>Lenskart.com</td>\n",
       "      <td>E-Commerce</td>\n",
       "      <td>Online Eyewear Shopping Portal</td>\n",
       "      <td>Faridabad</td>\n",
       "      <td>SoftBank Vision Fund</td>\n",
       "      <td>Series G</td>\n",
       "      <td>1905.750</td>\n",
       "    </tr>\n",
       "    <tr>\n",
       "      <th>60</th>\n",
       "      <td>NaT</td>\n",
       "      <td>Grofers</td>\n",
       "      <td>E-Commerce</td>\n",
       "      <td>Grocery Delivery</td>\n",
       "      <td>Gurgaon</td>\n",
       "      <td>Softbank Vision Fund</td>\n",
       "      <td>Series F</td>\n",
       "      <td>577.500</td>\n",
       "    </tr>\n",
       "    <tr>\n",
       "      <th>136</th>\n",
       "      <td>NaT</td>\n",
       "      <td>Automation Anywhere</td>\n",
       "      <td>Automation</td>\n",
       "      <td>Robotics</td>\n",
       "      <td>California</td>\n",
       "      <td>SoftBank Vision Fund</td>\n",
       "      <td>Series B</td>\n",
       "      <td>2475.000</td>\n",
       "    </tr>\n",
       "    <tr>\n",
       "      <th>142</th>\n",
       "      <td>NaT</td>\n",
       "      <td>Engineer.ai</td>\n",
       "      <td>Software</td>\n",
       "      <td>AI Platform</td>\n",
       "      <td>India/US</td>\n",
       "      <td>Lakestar and Jungle Ventures, Softbank\\\\xe2\\\\x...</td>\n",
       "      <td>Series A</td>\n",
       "      <td>243.375</td>\n",
       "    </tr>\n",
       "    <tr>\n",
       "      <th>249</th>\n",
       "      <td>NaT</td>\n",
       "      <td>PolicyBazaar</td>\n",
       "      <td>Consumer Internet</td>\n",
       "      <td>Online Insurance Selling Platform</td>\n",
       "      <td>Gurugram</td>\n",
       "      <td>SoftBank Vision Fund &amp; Info Edge (India) Ltd</td>\n",
       "      <td>Private Equity</td>\n",
       "      <td>1650.000</td>\n",
       "    </tr>\n",
       "  </tbody>\n",
       "</table>\n",
       "</div>"
      ],
      "text/plain": [
       "      date              startup           vertical  \\\n",
       "Sr No                                                \n",
       "17     NaT         Lenskart.com         E-Commerce   \n",
       "60     NaT              Grofers         E-Commerce   \n",
       "136    NaT  Automation Anywhere         Automation   \n",
       "142    NaT          Engineer.ai           Software   \n",
       "249    NaT         PolicyBazaar  Consumer Internet   \n",
       "\n",
       "                             subvertical        city  \\\n",
       "Sr No                                                  \n",
       "17        Online Eyewear Shopping Portal   Faridabad   \n",
       "60                      Grocery Delivery     Gurgaon   \n",
       "136                             Robotics  California   \n",
       "142                          AI Platform    India/US   \n",
       "249    Online Insurance Selling Platform    Gurugram   \n",
       "\n",
       "                                               investors           round  \\\n",
       "Sr No                                                                      \n",
       "17                                  SoftBank Vision Fund        Series G   \n",
       "60                                  Softbank Vision Fund        Series F   \n",
       "136                                 SoftBank Vision Fund        Series B   \n",
       "142    Lakestar and Jungle Ventures, Softbank\\\\xe2\\\\x...        Series A   \n",
       "249         SoftBank Vision Fund & Info Edge (India) Ltd  Private Equity   \n",
       "\n",
       "         amount  \n",
       "Sr No            \n",
       "17     1905.750  \n",
       "60      577.500  \n",
       "136    2475.000  \n",
       "142     243.375  \n",
       "249    1650.000  "
      ]
     },
     "execution_count": 26,
     "metadata": {},
     "output_type": "execute_result"
    }
   ],
   "source": [
    "df[df[\"investors\"].str.contains(\"Softbank\",case=False)].head()"
   ]
  },
  {
   "cell_type": "code",
   "execution_count": 27,
   "id": "aecf8025",
   "metadata": {},
   "outputs": [
    {
     "data": {
      "text/plain": [
       "startup\n",
       "Flipkart               20625.000\n",
       "Paytm                  11550.000\n",
       "Ola                     6847.500\n",
       "Snapdeal                4125.000\n",
       "Oyo Rooms               2887.500\n",
       "Ola Cabs                2763.750\n",
       "Automation Anywhere     2475.000\n",
       "Grofers                 2079.000\n",
       "OYO Rooms               2062.500\n",
       "Lenskart.com            1905.750\n",
       "PolicyBazaar            1650.000\n",
       "Hike                    1443.750\n",
       "Oyorooms                 825.000\n",
       "Oyo                      825.000\n",
       "OyoRooms                 511.500\n",
       "Engineer.ai              243.375\n",
       "Housing.com              165.000\n",
       "True Balance             123.750\n",
       "Name: amount, dtype: float64"
      ]
     },
     "execution_count": 27,
     "metadata": {},
     "output_type": "execute_result"
    }
   ],
   "source": [
    "df[df[\"investors\"].str.contains(\"Softbank\",case=False)].groupby(\"startup\")[\"amount\"].sum().sort_values(ascending=False)"
   ]
  },
  {
   "cell_type": "code",
   "execution_count": null,
   "id": "ae356a87",
   "metadata": {},
   "outputs": [],
   "source": []
  },
  {
   "cell_type": "code",
   "execution_count": 28,
   "id": "749da818",
   "metadata": {},
   "outputs": [
    {
     "data": {
      "text/html": [
       "<div>\n",
       "<style scoped>\n",
       "    .dataframe tbody tr th:only-of-type {\n",
       "        vertical-align: middle;\n",
       "    }\n",
       "\n",
       "    .dataframe tbody tr th {\n",
       "        vertical-align: top;\n",
       "    }\n",
       "\n",
       "    .dataframe thead th {\n",
       "        text-align: right;\n",
       "    }\n",
       "</style>\n",
       "<table border=\"1\" class=\"dataframe\">\n",
       "  <thead>\n",
       "    <tr style=\"text-align: right;\">\n",
       "      <th></th>\n",
       "      <th>date</th>\n",
       "      <th>startup</th>\n",
       "      <th>vertical</th>\n",
       "      <th>subvertical</th>\n",
       "      <th>city</th>\n",
       "      <th>investors</th>\n",
       "      <th>round</th>\n",
       "      <th>amount</th>\n",
       "    </tr>\n",
       "    <tr>\n",
       "      <th>Sr No</th>\n",
       "      <th></th>\n",
       "      <th></th>\n",
       "      <th></th>\n",
       "      <th></th>\n",
       "      <th></th>\n",
       "      <th></th>\n",
       "      <th></th>\n",
       "      <th></th>\n",
       "    </tr>\n",
       "  </thead>\n",
       "  <tbody>\n",
       "    <tr>\n",
       "      <th>1</th>\n",
       "      <td>2020-09-01</td>\n",
       "      <td>BYJU’S</td>\n",
       "      <td>E-Tech</td>\n",
       "      <td>E-learning</td>\n",
       "      <td>Bengaluru</td>\n",
       "      <td>Tiger Global Management</td>\n",
       "      <td>Private Equity Round</td>\n",
       "      <td>1650.000000</td>\n",
       "    </tr>\n",
       "    <tr>\n",
       "      <th>2</th>\n",
       "      <td>NaT</td>\n",
       "      <td>Shuttl</td>\n",
       "      <td>Transportation</td>\n",
       "      <td>App based shuttle service</td>\n",
       "      <td>Gurgaon</td>\n",
       "      <td>Susquehanna Growth Equity</td>\n",
       "      <td>Series C</td>\n",
       "      <td>66.399250</td>\n",
       "    </tr>\n",
       "    <tr>\n",
       "      <th>3</th>\n",
       "      <td>2020-09-01</td>\n",
       "      <td>Mamaearth</td>\n",
       "      <td>E-commerce</td>\n",
       "      <td>Retailer of baby and toddler products</td>\n",
       "      <td>Bengaluru</td>\n",
       "      <td>Sequoia Capital India</td>\n",
       "      <td>Series B</td>\n",
       "      <td>151.460595</td>\n",
       "    </tr>\n",
       "    <tr>\n",
       "      <th>4</th>\n",
       "      <td>2020-02-01</td>\n",
       "      <td>https://www.wealthbucket.in/</td>\n",
       "      <td>FinTech</td>\n",
       "      <td>Online Investment</td>\n",
       "      <td>New Delhi</td>\n",
       "      <td>Vinod Khatumal</td>\n",
       "      <td>Pre-series A</td>\n",
       "      <td>24.750000</td>\n",
       "    </tr>\n",
       "    <tr>\n",
       "      <th>5</th>\n",
       "      <td>2020-02-01</td>\n",
       "      <td>Fashor</td>\n",
       "      <td>Fashion and Apparel</td>\n",
       "      <td>Embroiled Clothes For Women</td>\n",
       "      <td>Mumbai</td>\n",
       "      <td>Sprout Venture Partners</td>\n",
       "      <td>Seed Round</td>\n",
       "      <td>14.850000</td>\n",
       "    </tr>\n",
       "  </tbody>\n",
       "</table>\n",
       "</div>"
      ],
      "text/plain": [
       "            date                       startup             vertical  \\\n",
       "Sr No                                                                 \n",
       "1     2020-09-01                        BYJU’S               E-Tech   \n",
       "2            NaT                        Shuttl       Transportation   \n",
       "3     2020-09-01                     Mamaearth           E-commerce   \n",
       "4     2020-02-01  https://www.wealthbucket.in/              FinTech   \n",
       "5     2020-02-01                        Fashor  Fashion and Apparel   \n",
       "\n",
       "                                 subvertical       city  \\\n",
       "Sr No                                                     \n",
       "1                                 E-learning  Bengaluru   \n",
       "2                  App based shuttle service    Gurgaon   \n",
       "3      Retailer of baby and toddler products  Bengaluru   \n",
       "4                          Online Investment  New Delhi   \n",
       "5                Embroiled Clothes For Women     Mumbai   \n",
       "\n",
       "                       investors                 round       amount  \n",
       "Sr No                                                                \n",
       "1        Tiger Global Management  Private Equity Round  1650.000000  \n",
       "2      Susquehanna Growth Equity              Series C    66.399250  \n",
       "3          Sequoia Capital India              Series B   151.460595  \n",
       "4                 Vinod Khatumal          Pre-series A    24.750000  \n",
       "5        Sprout Venture Partners            Seed Round    14.850000  "
      ]
     },
     "execution_count": 28,
     "metadata": {},
     "output_type": "execute_result"
    }
   ],
   "source": [
    "temp = df.head()\n",
    "temp"
   ]
  },
  {
   "cell_type": "code",
   "execution_count": 29,
   "id": "d4a23e31",
   "metadata": {},
   "outputs": [
    {
     "data": {
      "application/vnd.plotly.v1+json": {
       "config": {
        "plotlyServerURL": "https://plot.ly"
       },
       "data": [
        {
         "alignmentgroup": "True",
         "hovertemplate": "city=%{x}<br>amount=%{y}<extra></extra>",
         "legendgroup": "",
         "marker": {
          "color": "#636efa",
          "pattern": {
           "shape": ""
          }
         },
         "name": "",
         "offsetgroup": "",
         "orientation": "v",
         "showlegend": false,
         "textposition": "auto",
         "type": "bar",
         "x": [
          "Bengaluru",
          "Gurgaon",
          "Bengaluru",
          "New Delhi",
          "Mumbai"
         ],
         "xaxis": "x",
         "y": [
          1650,
          66.3992505,
          151.460595,
          24.75,
          14.85
         ],
         "yaxis": "y"
        }
       ],
       "layout": {
        "barmode": "relative",
        "legend": {
         "tracegroupgap": 0
        },
        "margin": {
         "t": 60
        },
        "template": {
         "data": {
          "bar": [
           {
            "error_x": {
             "color": "#2a3f5f"
            },
            "error_y": {
             "color": "#2a3f5f"
            },
            "marker": {
             "line": {
              "color": "#E5ECF6",
              "width": 0.5
             },
             "pattern": {
              "fillmode": "overlay",
              "size": 10,
              "solidity": 0.2
             }
            },
            "type": "bar"
           }
          ],
          "barpolar": [
           {
            "marker": {
             "line": {
              "color": "#E5ECF6",
              "width": 0.5
             },
             "pattern": {
              "fillmode": "overlay",
              "size": 10,
              "solidity": 0.2
             }
            },
            "type": "barpolar"
           }
          ],
          "carpet": [
           {
            "aaxis": {
             "endlinecolor": "#2a3f5f",
             "gridcolor": "white",
             "linecolor": "white",
             "minorgridcolor": "white",
             "startlinecolor": "#2a3f5f"
            },
            "baxis": {
             "endlinecolor": "#2a3f5f",
             "gridcolor": "white",
             "linecolor": "white",
             "minorgridcolor": "white",
             "startlinecolor": "#2a3f5f"
            },
            "type": "carpet"
           }
          ],
          "choropleth": [
           {
            "colorbar": {
             "outlinewidth": 0,
             "ticks": ""
            },
            "type": "choropleth"
           }
          ],
          "contour": [
           {
            "colorbar": {
             "outlinewidth": 0,
             "ticks": ""
            },
            "colorscale": [
             [
              0,
              "#0d0887"
             ],
             [
              0.1111111111111111,
              "#46039f"
             ],
             [
              0.2222222222222222,
              "#7201a8"
             ],
             [
              0.3333333333333333,
              "#9c179e"
             ],
             [
              0.4444444444444444,
              "#bd3786"
             ],
             [
              0.5555555555555556,
              "#d8576b"
             ],
             [
              0.6666666666666666,
              "#ed7953"
             ],
             [
              0.7777777777777778,
              "#fb9f3a"
             ],
             [
              0.8888888888888888,
              "#fdca26"
             ],
             [
              1,
              "#f0f921"
             ]
            ],
            "type": "contour"
           }
          ],
          "contourcarpet": [
           {
            "colorbar": {
             "outlinewidth": 0,
             "ticks": ""
            },
            "type": "contourcarpet"
           }
          ],
          "heatmap": [
           {
            "colorbar": {
             "outlinewidth": 0,
             "ticks": ""
            },
            "colorscale": [
             [
              0,
              "#0d0887"
             ],
             [
              0.1111111111111111,
              "#46039f"
             ],
             [
              0.2222222222222222,
              "#7201a8"
             ],
             [
              0.3333333333333333,
              "#9c179e"
             ],
             [
              0.4444444444444444,
              "#bd3786"
             ],
             [
              0.5555555555555556,
              "#d8576b"
             ],
             [
              0.6666666666666666,
              "#ed7953"
             ],
             [
              0.7777777777777778,
              "#fb9f3a"
             ],
             [
              0.8888888888888888,
              "#fdca26"
             ],
             [
              1,
              "#f0f921"
             ]
            ],
            "type": "heatmap"
           }
          ],
          "heatmapgl": [
           {
            "colorbar": {
             "outlinewidth": 0,
             "ticks": ""
            },
            "colorscale": [
             [
              0,
              "#0d0887"
             ],
             [
              0.1111111111111111,
              "#46039f"
             ],
             [
              0.2222222222222222,
              "#7201a8"
             ],
             [
              0.3333333333333333,
              "#9c179e"
             ],
             [
              0.4444444444444444,
              "#bd3786"
             ],
             [
              0.5555555555555556,
              "#d8576b"
             ],
             [
              0.6666666666666666,
              "#ed7953"
             ],
             [
              0.7777777777777778,
              "#fb9f3a"
             ],
             [
              0.8888888888888888,
              "#fdca26"
             ],
             [
              1,
              "#f0f921"
             ]
            ],
            "type": "heatmapgl"
           }
          ],
          "histogram": [
           {
            "marker": {
             "pattern": {
              "fillmode": "overlay",
              "size": 10,
              "solidity": 0.2
             }
            },
            "type": "histogram"
           }
          ],
          "histogram2d": [
           {
            "colorbar": {
             "outlinewidth": 0,
             "ticks": ""
            },
            "colorscale": [
             [
              0,
              "#0d0887"
             ],
             [
              0.1111111111111111,
              "#46039f"
             ],
             [
              0.2222222222222222,
              "#7201a8"
             ],
             [
              0.3333333333333333,
              "#9c179e"
             ],
             [
              0.4444444444444444,
              "#bd3786"
             ],
             [
              0.5555555555555556,
              "#d8576b"
             ],
             [
              0.6666666666666666,
              "#ed7953"
             ],
             [
              0.7777777777777778,
              "#fb9f3a"
             ],
             [
              0.8888888888888888,
              "#fdca26"
             ],
             [
              1,
              "#f0f921"
             ]
            ],
            "type": "histogram2d"
           }
          ],
          "histogram2dcontour": [
           {
            "colorbar": {
             "outlinewidth": 0,
             "ticks": ""
            },
            "colorscale": [
             [
              0,
              "#0d0887"
             ],
             [
              0.1111111111111111,
              "#46039f"
             ],
             [
              0.2222222222222222,
              "#7201a8"
             ],
             [
              0.3333333333333333,
              "#9c179e"
             ],
             [
              0.4444444444444444,
              "#bd3786"
             ],
             [
              0.5555555555555556,
              "#d8576b"
             ],
             [
              0.6666666666666666,
              "#ed7953"
             ],
             [
              0.7777777777777778,
              "#fb9f3a"
             ],
             [
              0.8888888888888888,
              "#fdca26"
             ],
             [
              1,
              "#f0f921"
             ]
            ],
            "type": "histogram2dcontour"
           }
          ],
          "mesh3d": [
           {
            "colorbar": {
             "outlinewidth": 0,
             "ticks": ""
            },
            "type": "mesh3d"
           }
          ],
          "parcoords": [
           {
            "line": {
             "colorbar": {
              "outlinewidth": 0,
              "ticks": ""
             }
            },
            "type": "parcoords"
           }
          ],
          "pie": [
           {
            "automargin": true,
            "type": "pie"
           }
          ],
          "scatter": [
           {
            "fillpattern": {
             "fillmode": "overlay",
             "size": 10,
             "solidity": 0.2
            },
            "type": "scatter"
           }
          ],
          "scatter3d": [
           {
            "line": {
             "colorbar": {
              "outlinewidth": 0,
              "ticks": ""
             }
            },
            "marker": {
             "colorbar": {
              "outlinewidth": 0,
              "ticks": ""
             }
            },
            "type": "scatter3d"
           }
          ],
          "scattercarpet": [
           {
            "marker": {
             "colorbar": {
              "outlinewidth": 0,
              "ticks": ""
             }
            },
            "type": "scattercarpet"
           }
          ],
          "scattergeo": [
           {
            "marker": {
             "colorbar": {
              "outlinewidth": 0,
              "ticks": ""
             }
            },
            "type": "scattergeo"
           }
          ],
          "scattergl": [
           {
            "marker": {
             "colorbar": {
              "outlinewidth": 0,
              "ticks": ""
             }
            },
            "type": "scattergl"
           }
          ],
          "scattermapbox": [
           {
            "marker": {
             "colorbar": {
              "outlinewidth": 0,
              "ticks": ""
             }
            },
            "type": "scattermapbox"
           }
          ],
          "scatterpolar": [
           {
            "marker": {
             "colorbar": {
              "outlinewidth": 0,
              "ticks": ""
             }
            },
            "type": "scatterpolar"
           }
          ],
          "scatterpolargl": [
           {
            "marker": {
             "colorbar": {
              "outlinewidth": 0,
              "ticks": ""
             }
            },
            "type": "scatterpolargl"
           }
          ],
          "scatterternary": [
           {
            "marker": {
             "colorbar": {
              "outlinewidth": 0,
              "ticks": ""
             }
            },
            "type": "scatterternary"
           }
          ],
          "surface": [
           {
            "colorbar": {
             "outlinewidth": 0,
             "ticks": ""
            },
            "colorscale": [
             [
              0,
              "#0d0887"
             ],
             [
              0.1111111111111111,
              "#46039f"
             ],
             [
              0.2222222222222222,
              "#7201a8"
             ],
             [
              0.3333333333333333,
              "#9c179e"
             ],
             [
              0.4444444444444444,
              "#bd3786"
             ],
             [
              0.5555555555555556,
              "#d8576b"
             ],
             [
              0.6666666666666666,
              "#ed7953"
             ],
             [
              0.7777777777777778,
              "#fb9f3a"
             ],
             [
              0.8888888888888888,
              "#fdca26"
             ],
             [
              1,
              "#f0f921"
             ]
            ],
            "type": "surface"
           }
          ],
          "table": [
           {
            "cells": {
             "fill": {
              "color": "#EBF0F8"
             },
             "line": {
              "color": "white"
             }
            },
            "header": {
             "fill": {
              "color": "#C8D4E3"
             },
             "line": {
              "color": "white"
             }
            },
            "type": "table"
           }
          ]
         },
         "layout": {
          "annotationdefaults": {
           "arrowcolor": "#2a3f5f",
           "arrowhead": 0,
           "arrowwidth": 1
          },
          "autotypenumbers": "strict",
          "coloraxis": {
           "colorbar": {
            "outlinewidth": 0,
            "ticks": ""
           }
          },
          "colorscale": {
           "diverging": [
            [
             0,
             "#8e0152"
            ],
            [
             0.1,
             "#c51b7d"
            ],
            [
             0.2,
             "#de77ae"
            ],
            [
             0.3,
             "#f1b6da"
            ],
            [
             0.4,
             "#fde0ef"
            ],
            [
             0.5,
             "#f7f7f7"
            ],
            [
             0.6,
             "#e6f5d0"
            ],
            [
             0.7,
             "#b8e186"
            ],
            [
             0.8,
             "#7fbc41"
            ],
            [
             0.9,
             "#4d9221"
            ],
            [
             1,
             "#276419"
            ]
           ],
           "sequential": [
            [
             0,
             "#0d0887"
            ],
            [
             0.1111111111111111,
             "#46039f"
            ],
            [
             0.2222222222222222,
             "#7201a8"
            ],
            [
             0.3333333333333333,
             "#9c179e"
            ],
            [
             0.4444444444444444,
             "#bd3786"
            ],
            [
             0.5555555555555556,
             "#d8576b"
            ],
            [
             0.6666666666666666,
             "#ed7953"
            ],
            [
             0.7777777777777778,
             "#fb9f3a"
            ],
            [
             0.8888888888888888,
             "#fdca26"
            ],
            [
             1,
             "#f0f921"
            ]
           ],
           "sequentialminus": [
            [
             0,
             "#0d0887"
            ],
            [
             0.1111111111111111,
             "#46039f"
            ],
            [
             0.2222222222222222,
             "#7201a8"
            ],
            [
             0.3333333333333333,
             "#9c179e"
            ],
            [
             0.4444444444444444,
             "#bd3786"
            ],
            [
             0.5555555555555556,
             "#d8576b"
            ],
            [
             0.6666666666666666,
             "#ed7953"
            ],
            [
             0.7777777777777778,
             "#fb9f3a"
            ],
            [
             0.8888888888888888,
             "#fdca26"
            ],
            [
             1,
             "#f0f921"
            ]
           ]
          },
          "colorway": [
           "#636efa",
           "#EF553B",
           "#00cc96",
           "#ab63fa",
           "#FFA15A",
           "#19d3f3",
           "#FF6692",
           "#B6E880",
           "#FF97FF",
           "#FECB52"
          ],
          "font": {
           "color": "#2a3f5f"
          },
          "geo": {
           "bgcolor": "white",
           "lakecolor": "white",
           "landcolor": "#E5ECF6",
           "showlakes": true,
           "showland": true,
           "subunitcolor": "white"
          },
          "hoverlabel": {
           "align": "left"
          },
          "hovermode": "closest",
          "mapbox": {
           "style": "light"
          },
          "paper_bgcolor": "white",
          "plot_bgcolor": "#E5ECF6",
          "polar": {
           "angularaxis": {
            "gridcolor": "white",
            "linecolor": "white",
            "ticks": ""
           },
           "bgcolor": "#E5ECF6",
           "radialaxis": {
            "gridcolor": "white",
            "linecolor": "white",
            "ticks": ""
           }
          },
          "scene": {
           "xaxis": {
            "backgroundcolor": "#E5ECF6",
            "gridcolor": "white",
            "gridwidth": 2,
            "linecolor": "white",
            "showbackground": true,
            "ticks": "",
            "zerolinecolor": "white"
           },
           "yaxis": {
            "backgroundcolor": "#E5ECF6",
            "gridcolor": "white",
            "gridwidth": 2,
            "linecolor": "white",
            "showbackground": true,
            "ticks": "",
            "zerolinecolor": "white"
           },
           "zaxis": {
            "backgroundcolor": "#E5ECF6",
            "gridcolor": "white",
            "gridwidth": 2,
            "linecolor": "white",
            "showbackground": true,
            "ticks": "",
            "zerolinecolor": "white"
           }
          },
          "shapedefaults": {
           "line": {
            "color": "#2a3f5f"
           }
          },
          "ternary": {
           "aaxis": {
            "gridcolor": "white",
            "linecolor": "white",
            "ticks": ""
           },
           "baxis": {
            "gridcolor": "white",
            "linecolor": "white",
            "ticks": ""
           },
           "bgcolor": "#E5ECF6",
           "caxis": {
            "gridcolor": "white",
            "linecolor": "white",
            "ticks": ""
           }
          },
          "title": {
           "x": 0.05
          },
          "xaxis": {
           "automargin": true,
           "gridcolor": "white",
           "linecolor": "white",
           "ticks": "",
           "title": {
            "standoff": 15
           },
           "zerolinecolor": "white",
           "zerolinewidth": 2
          },
          "yaxis": {
           "automargin": true,
           "gridcolor": "white",
           "linecolor": "white",
           "ticks": "",
           "title": {
            "standoff": 15
           },
           "zerolinecolor": "white",
           "zerolinewidth": 2
          }
         }
        },
        "xaxis": {
         "anchor": "y",
         "domain": [
          0,
          1
         ],
         "title": {
          "text": "city"
         }
        },
        "yaxis": {
         "anchor": "x",
         "domain": [
          0,
          1
         ],
         "title": {
          "text": "amount"
         }
        }
       }
      }
     },
     "metadata": {},
     "output_type": "display_data"
    }
   ],
   "source": [
    "px.bar(temp,x=\"city\",y=\"amount\")"
   ]
  },
  {
   "cell_type": "code",
   "execution_count": 30,
   "id": "58592536",
   "metadata": {},
   "outputs": [
    {
     "data": {
      "text/plain": [
       "vertical\n",
       "Automation                                2475.000\n",
       "Budget Hotel Accommodation                 825.000\n",
       "Budget Hotel accommodation brand           825.000\n",
       "Cab rental Mobile app                     1856.250\n",
       "Car Aggregator & Retail Mobile App        4125.000\n",
       "Consumer Internet                        12985.500\n",
       "E-Commerce                                2483.250\n",
       "ECommerce                                11550.000\n",
       "Ecommerce Marketplace                     4125.000\n",
       "Hyper-local Grocery Delivery platform      990.000\n",
       "Software                                   243.375\n",
       "Technology                                   0.000\n",
       "eCommerce                                20625.000\n",
       "Name: amount, dtype: float64"
      ]
     },
     "execution_count": 30,
     "metadata": {},
     "output_type": "execute_result"
    }
   ],
   "source": [
    "df[df[\"investors\"].str.contains(\"Softbank\", case=False)].groupby(\"vertical\")[\"amount\"].sum()"
   ]
  },
  {
   "cell_type": "code",
   "execution_count": 31,
   "id": "fbf10f3f",
   "metadata": {},
   "outputs": [
    {
     "data": {
      "text/plain": [
       "city\n",
       "Bangalore    998.25\n",
       "Mumbai       511.50\n",
       "New Delhi    222.75\n",
       "Gurgaon      214.50\n",
       "Name: amount, dtype: float64"
      ]
     },
     "execution_count": 31,
     "metadata": {},
     "output_type": "execute_result"
    }
   ],
   "source": [
    "df[df[\"investors\"].str.contains(\"IFC\", case=False)].groupby(\"city\")[\"amount\"].sum().sort_values(ascending = False)"
   ]
  },
  {
   "cell_type": "code",
   "execution_count": 32,
   "id": "bca03c40",
   "metadata": {},
   "outputs": [],
   "source": [
    "df[\"year_inv\"] = df[\"date\"].dt.year"
   ]
  },
  {
   "cell_type": "code",
   "execution_count": 33,
   "id": "666e7305",
   "metadata": {},
   "outputs": [
    {
     "data": {
      "text/html": [
       "<div>\n",
       "<style scoped>\n",
       "    .dataframe tbody tr th:only-of-type {\n",
       "        vertical-align: middle;\n",
       "    }\n",
       "\n",
       "    .dataframe tbody tr th {\n",
       "        vertical-align: top;\n",
       "    }\n",
       "\n",
       "    .dataframe thead th {\n",
       "        text-align: right;\n",
       "    }\n",
       "</style>\n",
       "<table border=\"1\" class=\"dataframe\">\n",
       "  <thead>\n",
       "    <tr style=\"text-align: right;\">\n",
       "      <th></th>\n",
       "      <th>date</th>\n",
       "      <th>startup</th>\n",
       "      <th>vertical</th>\n",
       "      <th>subvertical</th>\n",
       "      <th>city</th>\n",
       "      <th>investors</th>\n",
       "      <th>round</th>\n",
       "      <th>amount</th>\n",
       "      <th>year_inv</th>\n",
       "    </tr>\n",
       "    <tr>\n",
       "      <th>Sr No</th>\n",
       "      <th></th>\n",
       "      <th></th>\n",
       "      <th></th>\n",
       "      <th></th>\n",
       "      <th></th>\n",
       "      <th></th>\n",
       "      <th></th>\n",
       "      <th></th>\n",
       "      <th></th>\n",
       "    </tr>\n",
       "  </thead>\n",
       "  <tbody>\n",
       "    <tr>\n",
       "      <th>1</th>\n",
       "      <td>2020-09-01</td>\n",
       "      <td>BYJU’S</td>\n",
       "      <td>E-Tech</td>\n",
       "      <td>E-learning</td>\n",
       "      <td>Bengaluru</td>\n",
       "      <td>Tiger Global Management</td>\n",
       "      <td>Private Equity Round</td>\n",
       "      <td>1650.000000</td>\n",
       "      <td>2020.0</td>\n",
       "    </tr>\n",
       "    <tr>\n",
       "      <th>2</th>\n",
       "      <td>NaT</td>\n",
       "      <td>Shuttl</td>\n",
       "      <td>Transportation</td>\n",
       "      <td>App based shuttle service</td>\n",
       "      <td>Gurgaon</td>\n",
       "      <td>Susquehanna Growth Equity</td>\n",
       "      <td>Series C</td>\n",
       "      <td>66.399250</td>\n",
       "      <td>NaN</td>\n",
       "    </tr>\n",
       "    <tr>\n",
       "      <th>3</th>\n",
       "      <td>2020-09-01</td>\n",
       "      <td>Mamaearth</td>\n",
       "      <td>E-commerce</td>\n",
       "      <td>Retailer of baby and toddler products</td>\n",
       "      <td>Bengaluru</td>\n",
       "      <td>Sequoia Capital India</td>\n",
       "      <td>Series B</td>\n",
       "      <td>151.460595</td>\n",
       "      <td>2020.0</td>\n",
       "    </tr>\n",
       "    <tr>\n",
       "      <th>4</th>\n",
       "      <td>2020-02-01</td>\n",
       "      <td>https://www.wealthbucket.in/</td>\n",
       "      <td>FinTech</td>\n",
       "      <td>Online Investment</td>\n",
       "      <td>New Delhi</td>\n",
       "      <td>Vinod Khatumal</td>\n",
       "      <td>Pre-series A</td>\n",
       "      <td>24.750000</td>\n",
       "      <td>2020.0</td>\n",
       "    </tr>\n",
       "    <tr>\n",
       "      <th>5</th>\n",
       "      <td>2020-02-01</td>\n",
       "      <td>Fashor</td>\n",
       "      <td>Fashion and Apparel</td>\n",
       "      <td>Embroiled Clothes For Women</td>\n",
       "      <td>Mumbai</td>\n",
       "      <td>Sprout Venture Partners</td>\n",
       "      <td>Seed Round</td>\n",
       "      <td>14.850000</td>\n",
       "      <td>2020.0</td>\n",
       "    </tr>\n",
       "  </tbody>\n",
       "</table>\n",
       "</div>"
      ],
      "text/plain": [
       "            date                       startup             vertical  \\\n",
       "Sr No                                                                 \n",
       "1     2020-09-01                        BYJU’S               E-Tech   \n",
       "2            NaT                        Shuttl       Transportation   \n",
       "3     2020-09-01                     Mamaearth           E-commerce   \n",
       "4     2020-02-01  https://www.wealthbucket.in/              FinTech   \n",
       "5     2020-02-01                        Fashor  Fashion and Apparel   \n",
       "\n",
       "                                 subvertical       city  \\\n",
       "Sr No                                                     \n",
       "1                                 E-learning  Bengaluru   \n",
       "2                  App based shuttle service    Gurgaon   \n",
       "3      Retailer of baby and toddler products  Bengaluru   \n",
       "4                          Online Investment  New Delhi   \n",
       "5                Embroiled Clothes For Women     Mumbai   \n",
       "\n",
       "                       investors                 round       amount  year_inv  \n",
       "Sr No                                                                          \n",
       "1        Tiger Global Management  Private Equity Round  1650.000000    2020.0  \n",
       "2      Susquehanna Growth Equity              Series C    66.399250       NaN  \n",
       "3          Sequoia Capital India              Series B   151.460595    2020.0  \n",
       "4                 Vinod Khatumal          Pre-series A    24.750000    2020.0  \n",
       "5        Sprout Venture Partners            Seed Round    14.850000    2020.0  "
      ]
     },
     "execution_count": 33,
     "metadata": {},
     "output_type": "execute_result"
    }
   ],
   "source": [
    "df.head()"
   ]
  },
  {
   "cell_type": "code",
   "execution_count": 34,
   "id": "59383f95",
   "metadata": {},
   "outputs": [
    {
     "name": "stdout",
     "output_type": "stream",
     "text": [
      "<class 'pandas.core.frame.DataFrame'>\n",
      "Index: 3029 entries, 1 to 3044\n",
      "Data columns (total 9 columns):\n",
      " #   Column       Non-Null Count  Dtype         \n",
      "---  ------       --------------  -----         \n",
      " 0   date         1283 non-null   datetime64[ns]\n",
      " 1   startup      3029 non-null   object        \n",
      " 2   vertical     2858 non-null   object        \n",
      " 3   subvertical  2104 non-null   object        \n",
      " 4   city         2849 non-null   object        \n",
      " 5   investors    3029 non-null   object        \n",
      " 6   round        3027 non-null   object        \n",
      " 7   amount       3029 non-null   float64       \n",
      " 8   year_inv     1283 non-null   float64       \n",
      "dtypes: datetime64[ns](1), float64(2), object(6)\n",
      "memory usage: 236.6+ KB\n"
     ]
    }
   ],
   "source": [
    "df.info()"
   ]
  },
  {
   "cell_type": "code",
   "execution_count": 35,
   "id": "7f7bef76",
   "metadata": {},
   "outputs": [
    {
     "data": {
      "text/plain": [
       "year_inv\n",
       "2015.0    441.375\n",
       "2017.0    214.500\n",
       "2018.0    181.500\n",
       "Name: amount, dtype: float64"
      ]
     },
     "execution_count": 35,
     "metadata": {},
     "output_type": "execute_result"
    }
   ],
   "source": [
    "df[df[\"investors\"].str.contains(\"IFC\", case = False)].groupby(\"year_inv\")[\"amount\"].sum()"
   ]
  },
  {
   "cell_type": "code",
   "execution_count": 36,
   "id": "7ff94a06",
   "metadata": {},
   "outputs": [
    {
     "data": {
      "text/plain": [
       "startup\n",
       "Flipkart    33492.525\n",
       "Name: amount, dtype: float64"
      ]
     },
     "execution_count": 36,
     "metadata": {},
     "output_type": "execute_result"
    }
   ],
   "source": [
    "df.groupby(\"startup\")[\"amount\"].sum().sort_values(ascending=False).head(1)"
   ]
  },
  {
   "cell_type": "code",
   "execution_count": 37,
   "id": "a96ebe93",
   "metadata": {},
   "outputs": [
    {
     "data": {
      "text/plain": [
       "2448"
      ]
     },
     "execution_count": 37,
     "metadata": {},
     "output_type": "execute_result"
    }
   ],
   "source": [
    "df[\"startup\"].nunique()"
   ]
  },
  {
   "cell_type": "code",
   "execution_count": 38,
   "id": "7085d450",
   "metadata": {},
   "outputs": [
    {
     "data": {
      "text/html": [
       "<div>\n",
       "<style scoped>\n",
       "    .dataframe tbody tr th:only-of-type {\n",
       "        vertical-align: middle;\n",
       "    }\n",
       "\n",
       "    .dataframe tbody tr th {\n",
       "        vertical-align: top;\n",
       "    }\n",
       "\n",
       "    .dataframe thead th {\n",
       "        text-align: right;\n",
       "    }\n",
       "</style>\n",
       "<table border=\"1\" class=\"dataframe\">\n",
       "  <thead>\n",
       "    <tr style=\"text-align: right;\">\n",
       "      <th></th>\n",
       "      <th>date</th>\n",
       "      <th>startup</th>\n",
       "      <th>vertical</th>\n",
       "      <th>subvertical</th>\n",
       "      <th>city</th>\n",
       "      <th>investors</th>\n",
       "      <th>round</th>\n",
       "      <th>amount</th>\n",
       "      <th>year_inv</th>\n",
       "    </tr>\n",
       "    <tr>\n",
       "      <th>Sr No</th>\n",
       "      <th></th>\n",
       "      <th></th>\n",
       "      <th></th>\n",
       "      <th></th>\n",
       "      <th></th>\n",
       "      <th></th>\n",
       "      <th></th>\n",
       "      <th></th>\n",
       "      <th></th>\n",
       "    </tr>\n",
       "  </thead>\n",
       "  <tbody>\n",
       "    <tr>\n",
       "      <th>61</th>\n",
       "      <td>NaT</td>\n",
       "      <td>Rapido Bike Taxi</td>\n",
       "      <td>Transportation</td>\n",
       "      <td>Bike Taxi</td>\n",
       "      <td>Bengaluru</td>\n",
       "      <td>Westbridge Capital</td>\n",
       "      <td>Series B</td>\n",
       "      <td>32175.0</td>\n",
       "      <td>NaN</td>\n",
       "    </tr>\n",
       "  </tbody>\n",
       "</table>\n",
       "</div>"
      ],
      "text/plain": [
       "      date           startup        vertical subvertical       city  \\\n",
       "Sr No                                                                 \n",
       "61     NaT  Rapido Bike Taxi  Transportation   Bike Taxi  Bengaluru   \n",
       "\n",
       "                investors     round   amount  year_inv  \n",
       "Sr No                                                   \n",
       "61     Westbridge Capital  Series B  32175.0       NaN  "
      ]
     },
     "execution_count": 38,
     "metadata": {},
     "output_type": "execute_result"
    }
   ],
   "source": [
    "df[df[\"startup\"].str.contains(\"Rapido Bike Taxi\")]"
   ]
  },
  {
   "cell_type": "code",
   "execution_count": 39,
   "id": "3cba7ec9",
   "metadata": {},
   "outputs": [],
   "source": [
    "df[\"month\"] = df[\"date\"].dt.month_name()"
   ]
  },
  {
   "cell_type": "code",
   "execution_count": 40,
   "id": "ed8b90b0",
   "metadata": {},
   "outputs": [],
   "source": [
    "# df[\"year\"] = df[~df[\"year_inv\"].isin([np.nan])][\"year_inv\"].astype(\"int32\")"
   ]
  },
  {
   "cell_type": "code",
   "execution_count": 41,
   "id": "48c1f87a",
   "metadata": {},
   "outputs": [
    {
     "name": "stdout",
     "output_type": "stream",
     "text": [
      "<class 'pandas.core.frame.DataFrame'>\n",
      "Index: 3029 entries, 1 to 3044\n",
      "Data columns (total 10 columns):\n",
      " #   Column       Non-Null Count  Dtype         \n",
      "---  ------       --------------  -----         \n",
      " 0   date         1283 non-null   datetime64[ns]\n",
      " 1   startup      3029 non-null   object        \n",
      " 2   vertical     2858 non-null   object        \n",
      " 3   subvertical  2104 non-null   object        \n",
      " 4   city         2849 non-null   object        \n",
      " 5   investors    3029 non-null   object        \n",
      " 6   round        3027 non-null   object        \n",
      " 7   amount       3029 non-null   float64       \n",
      " 8   year_inv     1283 non-null   float64       \n",
      " 9   month        1283 non-null   object        \n",
      "dtypes: datetime64[ns](1), float64(2), object(7)\n",
      "memory usage: 260.3+ KB\n"
     ]
    }
   ],
   "source": [
    "df.info()"
   ]
  },
  {
   "cell_type": "code",
   "execution_count": 42,
   "id": "e34bea08",
   "metadata": {},
   "outputs": [],
   "source": [
    "# df.groupby([\"year_inv\",\"month\"])[\"amount\"].sum().pivot_table(index=\"month\",columns= \"year_inv\",values = \"amount\")\n",
    "df2 = df.groupby([\"year_inv\",\"month\"])[[\"amount\"]].sum()"
   ]
  },
  {
   "cell_type": "code",
   "execution_count": 43,
   "id": "2ea0961b",
   "metadata": {},
   "outputs": [
    {
     "data": {
      "text/html": [
       "<div>\n",
       "<style scoped>\n",
       "    .dataframe tbody tr th:only-of-type {\n",
       "        vertical-align: middle;\n",
       "    }\n",
       "\n",
       "    .dataframe tbody tr th {\n",
       "        vertical-align: top;\n",
       "    }\n",
       "\n",
       "    .dataframe thead th {\n",
       "        text-align: right;\n",
       "    }\n",
       "</style>\n",
       "<table border=\"1\" class=\"dataframe\">\n",
       "  <thead>\n",
       "    <tr style=\"text-align: right;\">\n",
       "      <th></th>\n",
       "      <th></th>\n",
       "      <th>amount</th>\n",
       "    </tr>\n",
       "    <tr>\n",
       "      <th>year_inv</th>\n",
       "      <th>month</th>\n",
       "      <th></th>\n",
       "    </tr>\n",
       "  </thead>\n",
       "  <tbody>\n",
       "    <tr>\n",
       "      <th rowspan=\"5\" valign=\"top\">2015.0</th>\n",
       "      <th>April</th>\n",
       "      <td>1944.896250</td>\n",
       "    </tr>\n",
       "    <tr>\n",
       "      <th>August</th>\n",
       "      <td>5616.187500</td>\n",
       "    </tr>\n",
       "    <tr>\n",
       "      <th>December</th>\n",
       "      <td>1333.200000</td>\n",
       "    </tr>\n",
       "    <tr>\n",
       "      <th>February</th>\n",
       "      <td>1862.194950</td>\n",
       "    </tr>\n",
       "    <tr>\n",
       "      <th>January</th>\n",
       "      <td>5274.637500</td>\n",
       "    </tr>\n",
       "    <tr>\n",
       "      <th>...</th>\n",
       "      <th>...</th>\n",
       "      <td>...</td>\n",
       "    </tr>\n",
       "    <tr>\n",
       "      <th rowspan=\"2\" valign=\"top\">2019.0</th>\n",
       "      <th>October</th>\n",
       "      <td>1647.377985</td>\n",
       "    </tr>\n",
       "    <tr>\n",
       "      <th>September</th>\n",
       "      <td>8.250000</td>\n",
       "    </tr>\n",
       "    <tr>\n",
       "      <th rowspan=\"3\" valign=\"top\">2020.0</th>\n",
       "      <th>February</th>\n",
       "      <td>39.600000</td>\n",
       "    </tr>\n",
       "    <tr>\n",
       "      <th>October</th>\n",
       "      <td>1237.500000</td>\n",
       "    </tr>\n",
       "    <tr>\n",
       "      <th>September</th>\n",
       "      <td>1801.460595</td>\n",
       "    </tr>\n",
       "  </tbody>\n",
       "</table>\n",
       "<p>62 rows × 1 columns</p>\n",
       "</div>"
      ],
      "text/plain": [
       "                         amount\n",
       "year_inv month                 \n",
       "2015.0   April      1944.896250\n",
       "         August     5616.187500\n",
       "         December   1333.200000\n",
       "         February   1862.194950\n",
       "         January    5274.637500\n",
       "...                         ...\n",
       "2019.0   October    1647.377985\n",
       "         September     8.250000\n",
       "2020.0   February     39.600000\n",
       "         October    1237.500000\n",
       "         September  1801.460595\n",
       "\n",
       "[62 rows x 1 columns]"
      ]
     },
     "execution_count": 43,
     "metadata": {},
     "output_type": "execute_result"
    }
   ],
   "source": [
    "df.groupby([\"year_inv\",\"month\"])[[\"amount\"]].sum()"
   ]
  },
  {
   "cell_type": "code",
   "execution_count": 44,
   "id": "def3783f",
   "metadata": {},
   "outputs": [
    {
     "data": {
      "text/html": [
       "<div>\n",
       "<style scoped>\n",
       "    .dataframe tbody tr th:only-of-type {\n",
       "        vertical-align: middle;\n",
       "    }\n",
       "\n",
       "    .dataframe tbody tr th {\n",
       "        vertical-align: top;\n",
       "    }\n",
       "\n",
       "    .dataframe thead tr th {\n",
       "        text-align: left;\n",
       "    }\n",
       "\n",
       "    .dataframe thead tr:last-of-type th {\n",
       "        text-align: right;\n",
       "    }\n",
       "</style>\n",
       "<table border=\"1\" class=\"dataframe\">\n",
       "  <thead>\n",
       "    <tr>\n",
       "      <th></th>\n",
       "      <th colspan=\"6\" halign=\"left\">amount</th>\n",
       "    </tr>\n",
       "    <tr>\n",
       "      <th>year_inv</th>\n",
       "      <th>2015.0</th>\n",
       "      <th>2016.0</th>\n",
       "      <th>2017.0</th>\n",
       "      <th>2018.0</th>\n",
       "      <th>2019.0</th>\n",
       "      <th>2020.0</th>\n",
       "    </tr>\n",
       "    <tr>\n",
       "      <th>month</th>\n",
       "      <th></th>\n",
       "      <th></th>\n",
       "      <th></th>\n",
       "      <th></th>\n",
       "      <th></th>\n",
       "      <th></th>\n",
       "    </tr>\n",
       "  </thead>\n",
       "  <tbody>\n",
       "    <tr>\n",
       "      <th>April</th>\n",
       "      <td>1944.896250</td>\n",
       "      <td>1338.81000</td>\n",
       "      <td>871.16700</td>\n",
       "      <td>717.486000</td>\n",
       "      <td>5611.650000</td>\n",
       "      <td>NaN</td>\n",
       "    </tr>\n",
       "    <tr>\n",
       "      <th>August</th>\n",
       "      <td>5616.187500</td>\n",
       "      <td>458.61750</td>\n",
       "      <td>999.11625</td>\n",
       "      <td>2253.075000</td>\n",
       "      <td>1896.704741</td>\n",
       "      <td>NaN</td>\n",
       "    </tr>\n",
       "    <tr>\n",
       "      <th>December</th>\n",
       "      <td>1333.200000</td>\n",
       "      <td>1624.61475</td>\n",
       "      <td>959.97000</td>\n",
       "      <td>1667.944484</td>\n",
       "      <td>1233.375000</td>\n",
       "      <td>NaN</td>\n",
       "    </tr>\n",
       "    <tr>\n",
       "      <th>February</th>\n",
       "      <td>1862.194950</td>\n",
       "      <td>576.18000</td>\n",
       "      <td>218.70750</td>\n",
       "      <td>383.044200</td>\n",
       "      <td>5416.125000</td>\n",
       "      <td>39.600000</td>\n",
       "    </tr>\n",
       "    <tr>\n",
       "      <th>January</th>\n",
       "      <td>5274.637500</td>\n",
       "      <td>308.51700</td>\n",
       "      <td>3577.20000</td>\n",
       "      <td>5036.946709</td>\n",
       "      <td>3241.466250</td>\n",
       "      <td>NaN</td>\n",
       "    </tr>\n",
       "    <tr>\n",
       "      <th>July</th>\n",
       "      <td>2521.247586</td>\n",
       "      <td>2783.05500</td>\n",
       "      <td>3261.30750</td>\n",
       "      <td>1490.981250</td>\n",
       "      <td>NaN</td>\n",
       "      <td>NaN</td>\n",
       "    </tr>\n",
       "    <tr>\n",
       "      <th>June</th>\n",
       "      <td>3439.053750</td>\n",
       "      <td>182.81175</td>\n",
       "      <td>1573.19250</td>\n",
       "      <td>1679.700000</td>\n",
       "      <td>1228.165950</td>\n",
       "      <td>NaN</td>\n",
       "    </tr>\n",
       "    <tr>\n",
       "      <th>March</th>\n",
       "      <td>2536.322250</td>\n",
       "      <td>656.28750</td>\n",
       "      <td>3926.17500</td>\n",
       "      <td>2161.986750</td>\n",
       "      <td>1464.375000</td>\n",
       "      <td>NaN</td>\n",
       "    </tr>\n",
       "    <tr>\n",
       "      <th>May</th>\n",
       "      <td>1086.937500</td>\n",
       "      <td>912.47475</td>\n",
       "      <td>1025.33475</td>\n",
       "      <td>1821.187500</td>\n",
       "      <td>457.875000</td>\n",
       "      <td>NaN</td>\n",
       "    </tr>\n",
       "    <tr>\n",
       "      <th>November</th>\n",
       "      <td>1356.300000</td>\n",
       "      <td>2553.44925</td>\n",
       "      <td>21379.99050</td>\n",
       "      <td>412.079250</td>\n",
       "      <td>1153.350000</td>\n",
       "      <td>NaN</td>\n",
       "    </tr>\n",
       "    <tr>\n",
       "      <th>October</th>\n",
       "      <td>1516.061250</td>\n",
       "      <td>546.35625</td>\n",
       "      <td>488.75475</td>\n",
       "      <td>1059.605250</td>\n",
       "      <td>1647.377985</td>\n",
       "      <td>1237.500000</td>\n",
       "    </tr>\n",
       "    <tr>\n",
       "      <th>September</th>\n",
       "      <td>1107.447000</td>\n",
       "      <td>664.53750</td>\n",
       "      <td>514.72575</td>\n",
       "      <td>300.433155</td>\n",
       "      <td>8.250000</td>\n",
       "      <td>1801.460595</td>\n",
       "    </tr>\n",
       "  </tbody>\n",
       "</table>\n",
       "</div>"
      ],
      "text/plain": [
       "                amount                                                     \\\n",
       "year_inv        2015.0      2016.0       2017.0       2018.0       2019.0   \n",
       "month                                                                       \n",
       "April      1944.896250  1338.81000    871.16700   717.486000  5611.650000   \n",
       "August     5616.187500   458.61750    999.11625  2253.075000  1896.704741   \n",
       "December   1333.200000  1624.61475    959.97000  1667.944484  1233.375000   \n",
       "February   1862.194950   576.18000    218.70750   383.044200  5416.125000   \n",
       "January    5274.637500   308.51700   3577.20000  5036.946709  3241.466250   \n",
       "July       2521.247586  2783.05500   3261.30750  1490.981250          NaN   \n",
       "June       3439.053750   182.81175   1573.19250  1679.700000  1228.165950   \n",
       "March      2536.322250   656.28750   3926.17500  2161.986750  1464.375000   \n",
       "May        1086.937500   912.47475   1025.33475  1821.187500   457.875000   \n",
       "November   1356.300000  2553.44925  21379.99050   412.079250  1153.350000   \n",
       "October    1516.061250   546.35625    488.75475  1059.605250  1647.377985   \n",
       "September  1107.447000   664.53750    514.72575   300.433155     8.250000   \n",
       "\n",
       "                        \n",
       "year_inv        2020.0  \n",
       "month                   \n",
       "April              NaN  \n",
       "August             NaN  \n",
       "December           NaN  \n",
       "February     39.600000  \n",
       "January            NaN  \n",
       "July               NaN  \n",
       "June               NaN  \n",
       "March              NaN  \n",
       "May                NaN  \n",
       "November           NaN  \n",
       "October    1237.500000  \n",
       "September  1801.460595  "
      ]
     },
     "execution_count": 44,
     "metadata": {},
     "output_type": "execute_result"
    }
   ],
   "source": [
    "df2.pivot_table(index=\"month\",columns=\"year_inv\",aggfunc=\"sum\")"
   ]
  },
  {
   "cell_type": "code",
   "execution_count": 45,
   "id": "9e23875b",
   "metadata": {},
   "outputs": [
    {
     "name": "stdout",
     "output_type": "stream",
     "text": [
      "<class 'pandas.core.frame.DataFrame'>\n",
      "Index: 3029 entries, 1 to 3044\n",
      "Data columns (total 10 columns):\n",
      " #   Column       Non-Null Count  Dtype         \n",
      "---  ------       --------------  -----         \n",
      " 0   date         1283 non-null   datetime64[ns]\n",
      " 1   startup      3029 non-null   object        \n",
      " 2   vertical     2858 non-null   object        \n",
      " 3   subvertical  2104 non-null   object        \n",
      " 4   city         2849 non-null   object        \n",
      " 5   investors    3029 non-null   object        \n",
      " 6   round        3027 non-null   object        \n",
      " 7   amount       3029 non-null   float64       \n",
      " 8   year_inv     1283 non-null   float64       \n",
      " 9   month        1283 non-null   object        \n",
      "dtypes: datetime64[ns](1), float64(2), object(7)\n",
      "memory usage: 260.3+ KB\n"
     ]
    }
   ],
   "source": [
    "df.info()"
   ]
  },
  {
   "cell_type": "code",
   "execution_count": 46,
   "id": "af813c67",
   "metadata": {},
   "outputs": [],
   "source": [
    "sec_anal = df.groupby(\"subvertical\")[\"amount\"].sum().sort_values(ascending = False).head(10)"
   ]
  },
  {
   "cell_type": "code",
   "execution_count": 47,
   "id": "e88b529b",
   "metadata": {},
   "outputs": [
    {
     "data": {
      "text/plain": [
       "([<matplotlib.patches.Wedge at 0x26340670e60>,\n",
       "  <matplotlib.patches.Wedge at 0x2634099b4d0>,\n",
       "  <matplotlib.patches.Wedge at 0x26340a0c3e0>,\n",
       "  <matplotlib.patches.Wedge at 0x26340a0cad0>,\n",
       "  <matplotlib.patches.Wedge at 0x26340a0d1f0>,\n",
       "  <matplotlib.patches.Wedge at 0x26340a0d8e0>,\n",
       "  <matplotlib.patches.Wedge at 0x26340a0e000>,\n",
       "  <matplotlib.patches.Wedge at 0x26340a0e6f0>,\n",
       "  <matplotlib.patches.Wedge at 0x26340a0ee10>,\n",
       "  <matplotlib.patches.Wedge at 0x26340a0f530>],\n",
       " [Text(0.6485381273217559, 0.8884808931034984, 'Bike Taxi'),\n",
       "  Text(-0.8936666698594933, 0.6413734350456398, 'Online Marketplace'),\n",
       "  Text(-1.0017172844651658, -0.45449145426920223, 'ECommerce Marketplace'),\n",
       "  Text(-0.41108536860551054, -1.020298397390916, 'Mobile Wallet & ECommerce platform'),\n",
       "  Text(0.24414871389729095, -1.072563007707379, 'Mobile Wallet'),\n",
       "  Text(0.6420951845648238, -0.8931482373932477, 'Private Equity Firm'),\n",
       "  Text(0.8677788354649068, -0.6759880862257636, 'Business development'),\n",
       "  Text(1.007836707208254, -0.44075522867417505, 'Wearable Fitness Bands'),\n",
       "  Text(1.07246599160295, -0.24457452208907918, 'App based cab aggregator'),\n",
       "  Text(1.0971240998267613, -0.07949031122922573, 'Robotics')],\n",
       " [Text(0.3537480694482304, 0.48462594169281725, '29.9%'),\n",
       "  Text(-0.48745454719608716, 0.34984005547943986, '20.3%'),\n",
       "  Text(-0.5463912460719086, -0.24790442960138298, '13.0%'),\n",
       "  Text(-0.224228382875733, -0.5565263985768633, '11.2%'),\n",
       "  Text(0.1331720257621587, -0.5850343678403884, '8.1%'),\n",
       "  Text(0.35023373703535843, -0.4871717658508623, '4.6%'),\n",
       "  Text(0.47333391025358545, -0.3687207743049619, '4.5%'),\n",
       "  Text(0.5497291130226839, -0.24041194291318635, '3.5%'),\n",
       "  Text(0.5849814499652454, -0.13340428477586136, '2.5%'),\n",
       "  Text(0.5984313271782333, -0.04335835157957767, '2.3%')])"
      ]
     },
     "execution_count": 47,
     "metadata": {},
     "output_type": "execute_result"
    },
    {
     "data": {
      "image/png": "[encoded data removed]",
      "text/plain": [
       "<Figure size 640x480 with 1 Axes>"
      ]
     },
     "metadata": {},
     "output_type": "display_data"
    }
   ],
   "source": [
    "plt.pie(sec_anal,labels = sec_anal.index,autopct = \"%0.1f%%\")"
   ]
  },
  {
   "cell_type": "code",
   "execution_count": 48,
   "id": "e6217069",
   "metadata": {},
   "outputs": [
    {
     "name": "stdout",
     "output_type": "stream",
     "text": [
      "<class 'pandas.core.frame.DataFrame'>\n",
      "Index: 3029 entries, 1 to 3044\n",
      "Data columns (total 10 columns):\n",
      " #   Column       Non-Null Count  Dtype         \n",
      "---  ------       --------------  -----         \n",
      " 0   date         1283 non-null   datetime64[ns]\n",
      " 1   startup      3029 non-null   object        \n",
      " 2   vertical     2858 non-null   object        \n",
      " 3   subvertical  2104 non-null   object        \n",
      " 4   city         2849 non-null   object        \n",
      " 5   investors    3029 non-null   object        \n",
      " 6   round        3027 non-null   object        \n",
      " 7   amount       3029 non-null   float64       \n",
      " 8   year_inv     1283 non-null   float64       \n",
      " 9   month        1283 non-null   object        \n",
      "dtypes: datetime64[ns](1), float64(2), object(7)\n",
      "memory usage: 260.3+ KB\n"
     ]
    }
   ],
   "source": [
    "df.info()"
   ]
  },
  {
   "cell_type": "code",
   "execution_count": 49,
   "id": "2973655a",
   "metadata": {},
   "outputs": [],
   "source": [
    "top_inv = df.groupby(\"investors\")[\"amount\"].sum().sort_values(ascending=False).head(10)"
   ]
  },
  {
   "cell_type": "code",
   "execution_count": 50,
   "id": "0b4cabf3",
   "metadata": {},
   "outputs": [
    {
     "data": {
      "text/html": [
       "<div>\n",
       "<style scoped>\n",
       "    .dataframe tbody tr th:only-of-type {\n",
       "        vertical-align: middle;\n",
       "    }\n",
       "\n",
       "    .dataframe tbody tr th {\n",
       "        vertical-align: top;\n",
       "    }\n",
       "\n",
       "    .dataframe thead th {\n",
       "        text-align: right;\n",
       "    }\n",
       "</style>\n",
       "<table border=\"1\" class=\"dataframe\">\n",
       "  <thead>\n",
       "    <tr style=\"text-align: right;\">\n",
       "      <th></th>\n",
       "      <th>amount</th>\n",
       "    </tr>\n",
       "    <tr>\n",
       "      <th>investors</th>\n",
       "      <th></th>\n",
       "    </tr>\n",
       "  </thead>\n",
       "  <tbody>\n",
       "    <tr>\n",
       "      <th>Westbridge Capital</th>\n",
       "      <td>32175.000000</td>\n",
       "    </tr>\n",
       "    <tr>\n",
       "      <th>Softbank</th>\n",
       "      <td>20625.000000</td>\n",
       "    </tr>\n",
       "    <tr>\n",
       "      <th>SoftBank Group</th>\n",
       "      <td>12061.500000</td>\n",
       "    </tr>\n",
       "    <tr>\n",
       "      <th>Microsoft, eBay, Tencent Holdings</th>\n",
       "      <td>11550.000000</td>\n",
       "    </tr>\n",
       "    <tr>\n",
       "      <th>Vijay Shekhar Sharma</th>\n",
       "      <td>8251.237500</td>\n",
       "    </tr>\n",
       "    <tr>\n",
       "      <th>Steadview Capital and existing investors</th>\n",
       "      <td>5775.000000</td>\n",
       "    </tr>\n",
       "    <tr>\n",
       "      <th>Alibaba Group, Ant Financial</th>\n",
       "      <td>5610.000000</td>\n",
       "    </tr>\n",
       "    <tr>\n",
       "      <th>Undisclosed</th>\n",
       "      <td>5389.485346</td>\n",
       "    </tr>\n",
       "    <tr>\n",
       "      <th>Altimeter Capital, DST Global</th>\n",
       "      <td>4826.250000</td>\n",
       "    </tr>\n",
       "    <tr>\n",
       "      <th>SoftBank Vision Fund</th>\n",
       "      <td>4380.750000</td>\n",
       "    </tr>\n",
       "  </tbody>\n",
       "</table>\n",
       "</div>"
      ],
      "text/plain": [
       "                                                amount\n",
       "investors                                             \n",
       "Westbridge Capital                        32175.000000\n",
       "Softbank                                  20625.000000\n",
       "SoftBank Group                            12061.500000\n",
       "Microsoft, eBay, Tencent Holdings         11550.000000\n",
       "Vijay Shekhar Sharma                       8251.237500\n",
       "Steadview Capital and existing investors   5775.000000\n",
       "Alibaba Group, Ant Financial               5610.000000\n",
       "Undisclosed                                5389.485346\n",
       "Altimeter Capital, DST Global              4826.250000\n",
       "SoftBank Vision Fund                       4380.750000"
      ]
     },
     "execution_count": 50,
     "metadata": {},
     "output_type": "execute_result"
    }
   ],
   "source": [
    "pd.DataFrame(top_inv)"
   ]
  },
  {
   "cell_type": "markdown",
   "id": "ad6bc625",
   "metadata": {},
   "source": [
    "- Founders\n",
    " - Industry\n",
    " - Subindustry\n",
    " - Location\n",
    " - Funding Rounds\n",
    " - Stage\n",
    " - Investors\n",
    " - Date\n",
    " - Similar company"
   ]
  },
  {
   "cell_type": "code",
   "execution_count": 58,
   "id": "b1cad185",
   "metadata": {},
   "outputs": [
    {
     "data": {
      "text/plain": [
       "startup\n",
       "Ola Cabs                    8\n",
       "Swiggy                      8\n",
       "Paytm                       7\n",
       "NoBroker                    6\n",
       "UrbanClap                   6\n",
       "                           ..\n",
       "Tookitaki                   1\n",
       "Furtados School of Music    1\n",
       "Vogo Automotive             1\n",
       "Yo Grad                     1\n",
       "Gadgets 360                 1\n",
       "Name: count, Length: 2448, dtype: int64"
      ]
     },
     "execution_count": 58,
     "metadata": {},
     "output_type": "execute_result"
    }
   ],
   "source": [
    "df[\"startup\"].value_counts().sort_values(ascending=False)"
   ]
  },
  {
   "cell_type": "code",
   "execution_count": null,
   "id": "c8a7012f",
   "metadata": {},
   "outputs": [],
   "source": []
  },
  {
   "cell_type": "code",
   "execution_count": null,
   "id": "b358a2fc",
   "metadata": {},
   "outputs": [],
   "source": []
  },
  {
   "cell_type": "code",
   "execution_count": null,
   "id": "c49ae9b9",
   "metadata": {},
   "outputs": [
    {
     "data": {
      "text/plain": [
       "array([list(['Tekne', 'Capital', 'Management', 'LLCFalcon', 'Edge', 'Capital,\\\\\\\\xc2\\\\\\\\xa0', 'Capital', 'AdvisersSoftBank', 'Group', 'CorpBaillie', 'Gifford,', 'Falcon', 'Edge', 'Capital,', 'Tiger', 'Global,', 'SoftBank', 'Group,', 'DST', 'Global,', 'Didi', 'Kuaidi'])],\n",
       "      dtype=object)"
      ]
     },
     "execution_count": 71,
     "metadata": {},
     "output_type": "execute_result"
    }
   ],
   "source": []
  },
  {
   "cell_type": "code",
   "execution_count": 74,
   "id": "b80060ab",
   "metadata": {},
   "outputs": [],
   "source": [
    "inv = df[df[\"startup\"].str.contains(\"Ola\",case=True)]"
   ]
  },
  {
   "cell_type": "code",
   "execution_count": 75,
   "id": "82907f19",
   "metadata": {},
   "outputs": [
    {
     "data": {
      "text/html": [
       "<div>\n",
       "<style scoped>\n",
       "    .dataframe tbody tr th:only-of-type {\n",
       "        vertical-align: middle;\n",
       "    }\n",
       "\n",
       "    .dataframe tbody tr th {\n",
       "        vertical-align: top;\n",
       "    }\n",
       "\n",
       "    .dataframe thead th {\n",
       "        text-align: right;\n",
       "    }\n",
       "</style>\n",
       "<table border=\"1\" class=\"dataframe\">\n",
       "  <thead>\n",
       "    <tr style=\"text-align: right;\">\n",
       "      <th></th>\n",
       "      <th>date</th>\n",
       "      <th>startup</th>\n",
       "      <th>vertical</th>\n",
       "      <th>subvertical</th>\n",
       "      <th>city</th>\n",
       "      <th>investors</th>\n",
       "      <th>round</th>\n",
       "      <th>amount</th>\n",
       "      <th>year_inv</th>\n",
       "      <th>month</th>\n",
       "    </tr>\n",
       "    <tr>\n",
       "      <th>Sr No</th>\n",
       "      <th></th>\n",
       "      <th></th>\n",
       "      <th></th>\n",
       "      <th></th>\n",
       "      <th></th>\n",
       "      <th></th>\n",
       "      <th></th>\n",
       "      <th></th>\n",
       "      <th></th>\n",
       "      <th></th>\n",
       "    </tr>\n",
       "  </thead>\n",
       "  <tbody>\n",
       "    <tr>\n",
       "      <th>65</th>\n",
       "      <td>2019-03-07</td>\n",
       "      <td>Ola Cabs</td>\n",
       "      <td>Transport</td>\n",
       "      <td>Cabs</td>\n",
       "      <td>Kormangala</td>\n",
       "      <td>DIG Investment Ab, Deshe Holdings, Samih Touka...</td>\n",
       "      <td>Series J</td>\n",
       "      <td>8.250</td>\n",
       "      <td>2019.0</td>\n",
       "      <td>March</td>\n",
       "    </tr>\n",
       "    <tr>\n",
       "      <th>90</th>\n",
       "      <td>2019-06-05</td>\n",
       "      <td>Ola Electric</td>\n",
       "      <td>Transport</td>\n",
       "      <td>Cabs</td>\n",
       "      <td>Bengaluru</td>\n",
       "      <td>Tata Sons</td>\n",
       "      <td>Series A</td>\n",
       "      <td>0.000</td>\n",
       "      <td>2019.0</td>\n",
       "      <td>June</td>\n",
       "    </tr>\n",
       "    <tr>\n",
       "      <th>524</th>\n",
       "      <td>2017-03-10</td>\n",
       "      <td>Ola Cabs</td>\n",
       "      <td>Consumer Internet</td>\n",
       "      <td>App based cab hailing services</td>\n",
       "      <td>Bangalore</td>\n",
       "      <td>Tencent, Softbank Group</td>\n",
       "      <td>Private Equity</td>\n",
       "      <td>907.500</td>\n",
       "      <td>2017.0</td>\n",
       "      <td>March</td>\n",
       "    </tr>\n",
       "    <tr>\n",
       "      <th>571</th>\n",
       "      <td>NaT</td>\n",
       "      <td>Ola Cabs</td>\n",
       "      <td>Consumer Internet</td>\n",
       "      <td>App based cab hailing services</td>\n",
       "      <td>Bangalore</td>\n",
       "      <td>ANI Technologies Pvt. Ltd</td>\n",
       "      <td>Private Equity</td>\n",
       "      <td>63.525</td>\n",
       "      <td>NaN</td>\n",
       "      <td>NaN</td>\n",
       "    </tr>\n",
       "    <tr>\n",
       "      <th>654</th>\n",
       "      <td>2017-11-08</td>\n",
       "      <td>Ola Cabs</td>\n",
       "      <td>Consumer Internet</td>\n",
       "      <td>App based cab aggregation Service</td>\n",
       "      <td>Gurgaon</td>\n",
       "      <td>Tekne Capital Management</td>\n",
       "      <td>Private Equity</td>\n",
       "      <td>297.000</td>\n",
       "      <td>2017.0</td>\n",
       "      <td>November</td>\n",
       "    </tr>\n",
       "    <tr>\n",
       "      <th>749</th>\n",
       "      <td>NaT</td>\n",
       "      <td>Ola</td>\n",
       "      <td>Consumer Internet</td>\n",
       "      <td>Cab Aggregation App</td>\n",
       "      <td>Bangalore</td>\n",
       "      <td>Tekne Capital Management LLC</td>\n",
       "      <td>Private Equity</td>\n",
       "      <td>412.500</td>\n",
       "      <td>NaN</td>\n",
       "      <td>NaN</td>\n",
       "    </tr>\n",
       "    <tr>\n",
       "      <th>792</th>\n",
       "      <td>2017-03-05</td>\n",
       "      <td>Ola</td>\n",
       "      <td>Consumer Internet</td>\n",
       "      <td>Cab Aggregation App</td>\n",
       "      <td>Bangalore</td>\n",
       "      <td>Falcon Edge Capital,\\\\xc2\\\\xa0 Capital Advisers</td>\n",
       "      <td>Private Equity</td>\n",
       "      <td>862.125</td>\n",
       "      <td>2017.0</td>\n",
       "      <td>March</td>\n",
       "    </tr>\n",
       "    <tr>\n",
       "      <th>890</th>\n",
       "      <td>NaT</td>\n",
       "      <td>Ola Cabs</td>\n",
       "      <td>Consumer Internet</td>\n",
       "      <td>Cab Aggregator App</td>\n",
       "      <td>Bangalore</td>\n",
       "      <td>SIMI Pacific Pte</td>\n",
       "      <td>Private Equity</td>\n",
       "      <td>2145.000</td>\n",
       "      <td>NaN</td>\n",
       "      <td>NaN</td>\n",
       "    </tr>\n",
       "    <tr>\n",
       "      <th>925</th>\n",
       "      <td>2017-01-03</td>\n",
       "      <td>Ola</td>\n",
       "      <td>Consumer Internet</td>\n",
       "      <td>App based cab aggregator</td>\n",
       "      <td>Bangalore</td>\n",
       "      <td>SoftBank Group Corp</td>\n",
       "      <td>Private Equity</td>\n",
       "      <td>2722.500</td>\n",
       "      <td>2017.0</td>\n",
       "      <td>January</td>\n",
       "    </tr>\n",
       "    <tr>\n",
       "      <th>2245</th>\n",
       "      <td>NaT</td>\n",
       "      <td>Ola</td>\n",
       "      <td>Car Aggregator &amp; Retail Mobile App</td>\n",
       "      <td>NaN</td>\n",
       "      <td>Bangalore</td>\n",
       "      <td>Baillie Gifford, Falcon Edge Capital, Tiger Gl...</td>\n",
       "      <td>Private Equity</td>\n",
       "      <td>4125.000</td>\n",
       "      <td>NaN</td>\n",
       "      <td>NaN</td>\n",
       "    </tr>\n",
       "    <tr>\n",
       "      <th>2416</th>\n",
       "      <td>NaT</td>\n",
       "      <td>Ola Cabs</td>\n",
       "      <td>Cab rental Mobile app</td>\n",
       "      <td>NaN</td>\n",
       "      <td>Bangalore</td>\n",
       "      <td>Falcon Edge Capital, NY based Hedge Fund, Tige...</td>\n",
       "      <td>Private Equity</td>\n",
       "      <td>1856.250</td>\n",
       "      <td>NaN</td>\n",
       "      <td>NaN</td>\n",
       "    </tr>\n",
       "    <tr>\n",
       "      <th>2459</th>\n",
       "      <td>NaT</td>\n",
       "      <td>Ola Cabs</td>\n",
       "      <td>Cab Booking app platform</td>\n",
       "      <td>NaN</td>\n",
       "      <td>Bangalore</td>\n",
       "      <td>Didi Kuaidi</td>\n",
       "      <td>Private Equity</td>\n",
       "      <td>247.500</td>\n",
       "      <td>NaN</td>\n",
       "      <td>NaN</td>\n",
       "    </tr>\n",
       "    <tr>\n",
       "      <th>2574</th>\n",
       "      <td>2015-01-07</td>\n",
       "      <td>Ola Cabs</td>\n",
       "      <td>Cab rental Mobile app</td>\n",
       "      <td>NaN</td>\n",
       "      <td>Bangalore</td>\n",
       "      <td>Ratan Tata</td>\n",
       "      <td>Private Equity</td>\n",
       "      <td>0.000</td>\n",
       "      <td>2015.0</td>\n",
       "      <td>January</td>\n",
       "    </tr>\n",
       "    <tr>\n",
       "      <th>2821</th>\n",
       "      <td>2015-08-04</td>\n",
       "      <td>Olacabs</td>\n",
       "      <td>Cab Aggregator</td>\n",
       "      <td>NaN</td>\n",
       "      <td>Bangalore</td>\n",
       "      <td>DST Global, Steadview Capital, Tiger Global, A...</td>\n",
       "      <td>Private Equity</td>\n",
       "      <td>3300.000</td>\n",
       "      <td>2015.0</td>\n",
       "      <td>August</td>\n",
       "    </tr>\n",
       "  </tbody>\n",
       "</table>\n",
       "</div>"
      ],
      "text/plain": [
       "            date       startup                            vertical  \\\n",
       "Sr No                                                                \n",
       "65    2019-03-07      Ola Cabs                           Transport   \n",
       "90    2019-06-05  Ola Electric                           Transport   \n",
       "524   2017-03-10      Ola Cabs                   Consumer Internet   \n",
       "571          NaT      Ola Cabs                   Consumer Internet   \n",
       "654   2017-11-08      Ola Cabs                   Consumer Internet   \n",
       "749          NaT           Ola                   Consumer Internet   \n",
       "792   2017-03-05           Ola                   Consumer Internet   \n",
       "890          NaT      Ola Cabs                   Consumer Internet   \n",
       "925   2017-01-03           Ola                   Consumer Internet   \n",
       "2245         NaT           Ola  Car Aggregator & Retail Mobile App   \n",
       "2416         NaT      Ola Cabs               Cab rental Mobile app   \n",
       "2459         NaT      Ola Cabs            Cab Booking app platform   \n",
       "2574  2015-01-07      Ola Cabs               Cab rental Mobile app   \n",
       "2821  2015-08-04       Olacabs                      Cab Aggregator   \n",
       "\n",
       "                             subvertical        city  \\\n",
       "Sr No                                                  \n",
       "65                                  Cabs  Kormangala   \n",
       "90                                  Cabs   Bengaluru   \n",
       "524       App based cab hailing services   Bangalore   \n",
       "571       App based cab hailing services   Bangalore   \n",
       "654    App based cab aggregation Service     Gurgaon   \n",
       "749                  Cab Aggregation App   Bangalore   \n",
       "792                  Cab Aggregation App   Bangalore   \n",
       "890                   Cab Aggregator App   Bangalore   \n",
       "925             App based cab aggregator   Bangalore   \n",
       "2245                                 NaN   Bangalore   \n",
       "2416                                 NaN   Bangalore   \n",
       "2459                                 NaN   Bangalore   \n",
       "2574                                 NaN   Bangalore   \n",
       "2821                                 NaN   Bangalore   \n",
       "\n",
       "                                               investors           round  \\\n",
       "Sr No                                                                      \n",
       "65     DIG Investment Ab, Deshe Holdings, Samih Touka...        Series J   \n",
       "90                                             Tata Sons        Series A   \n",
       "524                              Tencent, Softbank Group  Private Equity   \n",
       "571                            ANI Technologies Pvt. Ltd  Private Equity   \n",
       "654                             Tekne Capital Management  Private Equity   \n",
       "749                         Tekne Capital Management LLC  Private Equity   \n",
       "792      Falcon Edge Capital,\\\\xc2\\\\xa0 Capital Advisers  Private Equity   \n",
       "890                                     SIMI Pacific Pte  Private Equity   \n",
       "925                                  SoftBank Group Corp  Private Equity   \n",
       "2245   Baillie Gifford, Falcon Edge Capital, Tiger Gl...  Private Equity   \n",
       "2416   Falcon Edge Capital, NY based Hedge Fund, Tige...  Private Equity   \n",
       "2459                                         Didi Kuaidi  Private Equity   \n",
       "2574                                          Ratan Tata  Private Equity   \n",
       "2821   DST Global, Steadview Capital, Tiger Global, A...  Private Equity   \n",
       "\n",
       "         amount  year_inv     month  \n",
       "Sr No                                \n",
       "65        8.250    2019.0     March  \n",
       "90        0.000    2019.0      June  \n",
       "524     907.500    2017.0     March  \n",
       "571      63.525       NaN       NaN  \n",
       "654     297.000    2017.0  November  \n",
       "749     412.500       NaN       NaN  \n",
       "792     862.125    2017.0     March  \n",
       "890    2145.000       NaN       NaN  \n",
       "925    2722.500    2017.0   January  \n",
       "2245   4125.000       NaN       NaN  \n",
       "2416   1856.250       NaN       NaN  \n",
       "2459    247.500       NaN       NaN  \n",
       "2574      0.000    2015.0   January  \n",
       "2821   3300.000    2015.0    August  "
      ]
     },
     "execution_count": 75,
     "metadata": {},
     "output_type": "execute_result"
    }
   ],
   "source": [
    "inv"
   ]
  },
  {
   "cell_type": "code",
   "execution_count": 82,
   "id": "d2ad1258",
   "metadata": {},
   "outputs": [
    {
     "data": {
      "text/plain": [
       "164.175"
      ]
     },
     "execution_count": 82,
     "metadata": {},
     "output_type": "execute_result"
    }
   ],
   "source": [
    "df[df[\"startup\"].str.contains(\"OfBusiness\",case=True)][\"amount\"].sum().item()"
   ]
  }
 ],
 "metadata": {
  "kernelspec": {
   "display_name": "Python 3",
   "language": "python",
   "name": "python3"
  },
  "language_info": {
   "codemirror_mode": {
    "name": "ipython",
    "version": 3
   },
   "file_extension": ".py",
   "mimetype": "text/x-python",
   "name": "python",
   "nbconvert_exporter": "python",
   "pygments_lexer": "ipython3",
   "version": "3.12.3"
  }
 },
 "nbformat": 4,
 "nbformat_minor": 5
}
